{
 "cells": [
  {
   "cell_type": "code",
   "execution_count": 6,
   "id": "a7638003",
   "metadata": {},
   "outputs": [],
   "source": [
    "# imports\n",
    "\n",
    "import numpy as np\n",
    "\n",
    "# import keras\n",
    "# from keras.layers import Input, Dense, BatchNormalization\n",
    "# from keras.callbacks import ModelCheckpoint, EarlyStopping\n",
    "\n",
    "# from tqdm.auto import tqdm \n",
    "\n",
    "# from sklearn.metrics import roc_curve, auc\n",
    "# from sklearn.preprocessing import StandardScaler\n",
    "# from sklearn.dedef get_labels(tree,label):\n",
    "# from sklearn.discriminant_analysis import LinearDiscriminantAnalysis\n",
    "\n",
    "import matplotlib.pyplot as plt\n",
    "import uproot\n",
    "import awkward as ak\n",
    "\n",
    "import pandas as pd\n",
    "import seaborn as sns"
   ]
  },
  {
   "cell_type": "code",
   "execution_count": 7,
   "id": "0b50f4e9",
   "metadata": {},
   "outputs": [],
   "source": [
    "def get_labels(tree,label):\n",
    "    '''\n",
    "    Function to return the labels array out of a root tree.\n",
    "    This function is required because we use 2 sets of 2 lables each\n",
    "    where each set is combined with a logical \"and\".\n",
    "    For instance \"fj_isQCD and sample_isQCD\" is the final label to label a jet as\n",
    "    originating from QCD.\n",
    "    '''\n",
    "    prods = label.split('*')\n",
    "    facts = tree.arrays(prods,library='np')\n",
    "    labels = np.multiply(facts[prods[0]],facts[prods[1]])\n",
    "    return labels"
   ]
  },
  {
   "cell_type": "code",
   "execution_count": 8,
   "id": "4727666b",
   "metadata": {},
   "outputs": [],
   "source": [
    "def reshape(awk_ar,sorter,fet_lngth, ascending=False):                                                                                                 \n",
    "    '''\n",
    "    This function creates takes an awkward array of track information in an event, and formats it in a standard 2D array.\n",
    "    The tracks of an event are sorted according to the 'sorter' argument in descending order (greatest value first).\n",
    "    Events that have too many tracks are truncated, while those with too few are padded with zeros afterwards.\n",
    "    The returned array is an array of 2D arrays containing  track information for each event.\n",
    "    '''\n",
    "    evt_ar = [[] for i in range(len(awk_ar[0]))]\n",
    "    srt_idx = np.where(np.array(features)==sorter)[0][0]\n",
    "    \n",
    "    for fet in awk_ar:\n",
    "        for evt_n in range(len(fet)):\n",
    "            evt_ar[evt_n].append(np.array(fet[evt_n]))\n",
    "            \n",
    "    # Making 2D arrays for each event, where each each row of that event's 2D array is now a feature array\n",
    "    evt_ar2d = []\n",
    "    \n",
    "    for evt in evt_ar:\n",
    "        evt_ar2d.append(np.stack(evt))\n",
    "        \n",
    "    # Now sorting each 2d array's columns according to the 'sorter' feature\n",
    "    evt_ar2d_srtd = []\n",
    "    \n",
    "    for evt in evt_ar2d:\n",
    "        idcs = evt[srt_idx].argsort()[::-1]\n",
    "        evt_ar2d_srtd.append(evt[:,idcs])\n",
    "        \n",
    "    # Now need to standardize feature array per event\n",
    "    evt_std = []\n",
    "    npad = 0\n",
    "    \n",
    "    for evt in evt_ar2d_srtd:\n",
    "        if len(evt[0]) > fet_lngth:\n",
    "            evt_std.append( np.swapaxes(evt[:,:fet_lngth],0,1) )\n",
    "#             evt_std.append( evt[:,:fet_lngth].flatten() )\n",
    "        else:\n",
    "            npad += 1\n",
    "            padded = np.pad(evt,((0,0),(0,fet_lngth - len(evt[0]))))\n",
    "            evt_std.append( np.swapaxes(padded,0,1) )\n",
    "#             evt_std.append( np.pad(evt,((0,0),(0,fet_lngth - len(evt[0])))).flatten() )\n",
    "\n",
    "    print('Number of events padded: {}'.format(npad))\n",
    "    \n",
    "    return np.array(evt_std)"
   ]
  },
  {
   "cell_type": "code",
   "execution_count": 48,
   "id": "8831710c",
   "metadata": {},
   "outputs": [],
   "source": [
    "def get_features(file_name, FetLbls, var_sort, ntrx):\n",
    "    '''\n",
    "    Function that extracts our chosen feature and label arrays from a root file\n",
    "    for the events that are labeled as QCD or Hbb and returns two 2D arrays.\n",
    "    The first array is the features array and has the shape (nummber_of_events, number_of_features).\n",
    "    The second array is the labels array ans has the shape (number_of_events, 2)\n",
    "    '''\n",
    "    with uproot.open(f\"{file_name}:deepntuplizer/tree\") as tree:\n",
    "\n",
    "        lbl_data = []\n",
    "        fet_data = []\n",
    "        \n",
    "        \n",
    "        # LABELS\n",
    "        for lbl in FetLbls[1]:\n",
    "            lbl_data.append(get_labels(tree,lbl))\n",
    "    \n",
    "        msk_raw = lbl_data[0] + lbl_data[1]\n",
    "        \n",
    "        nsig = lbl_data[1].sum()\n",
    "        \n",
    "        if nsig < lbl_data[0].sum():\n",
    "            bkg = np.where(lbl_data[0] == 1)[0]\n",
    "            np.random.shuffle(bkg)\n",
    "            msk_raw[bkg[lbl_data[1].sum():]] = 0\n",
    "        \n",
    "        msk = msk_raw == 1\n",
    "        \n",
    "        # This part organizes it by event, rather than feature. (features move from rows to columns)\n",
    "        label_array = np.stack(lbl_data,axis=-1)[msk]\n",
    "        \n",
    "        \n",
    "        \n",
    "        # FEATURES\n",
    "        for fet in FetLbls[0]:\n",
    "            fet_data.append(np.array(tree[fet])[msk])\n",
    "            \n",
    "        feature_array = reshape(fet_data, var_sort, ntrx)\n",
    "\n",
    "        \n",
    "    #     return arrays\n",
    "    return feature_array, label_array"
   ]
  },
  {
   "cell_type": "code",
   "execution_count": null,
   "id": "4e24f03e",
   "metadata": {},
   "outputs": [],
   "source": []
  },
  {
   "cell_type": "code",
   "execution_count": 10,
   "id": "5b5df275",
   "metadata": {},
   "outputs": [],
   "source": [
    "features = ['trackBTag_DeltaR',\n",
    "            'trackBTag_Eta',\n",
    "            'trackBTag_EtaRel',\n",
    "            'trackBTag_JetDistVal',\n",
    "            'trackBTag_Momentum',\n",
    "            'trackBTag_PPar',\n",
    "            'trackBTag_PParRatio',\n",
    "            'trackBTag_PtRatio',\n",
    "            'trackBTag_PtRel',\n",
    "            'trackBTag_Sip2dSig',\n",
    "            'trackBTag_Sip2dVal',\n",
    "            'trackBTag_Sip3dSig',\n",
    "            'trackBTag_Sip3dVal',\n",
    "            'track_charge',\n",
    "            'track_deltaR',\n",
    "            'track_drminsv',\n",
    "            'track_drsubjet1',\n",
    "            'track_drsubjet2',\n",
    "            'track_dxy',\n",
    "            'track_dxysig',\n",
    "            'track_dz',\n",
    "            'track_dzsig',\n",
    "            'track_erel',\n",
    "            'track_etarel',\n",
    "            'track_mass',\n",
    "            'track_phirel',\n",
    "            'track_pt',\n",
    "            'track_ptrel']\n",
    "    \n",
    "labels = ['fj_isQCD*sample_isQCD',\n",
    "          'fj_isH*fj_isBB']\n",
    "\n",
    "FetLbls = [features,labels]"
   ]
  },
  {
   "cell_type": "code",
   "execution_count": 49,
   "id": "80baf954",
   "metadata": {
    "scrolled": true
   },
   "outputs": [
    {
     "name": "stdout",
     "output_type": "stream",
     "text": [
      "Number of events padded: 1317\n"
     ]
    }
   ],
   "source": [
    "feature_array, label_array = get_features('../root_files/ntuple_merged_0.root',FetLbls,'trackBTag_Momentum',10)"
   ]
  },
  {
   "cell_type": "code",
   "execution_count": 12,
   "id": "1433c825",
   "metadata": {},
   "outputs": [],
   "source": [
    "feature_array = np.array(feature_array)"
   ]
  },
  {
   "cell_type": "code",
   "execution_count": 50,
   "id": "282c4fc8",
   "metadata": {
    "scrolled": false
   },
   "outputs": [
    {
     "name": "stdout",
     "output_type": "stream",
     "text": [
      "(49560, 10, 28)\n",
      "(49560, 2)\n"
     ]
    }
   ],
   "source": [
    "print(feature_array.shape)\n",
    "print(label_array.shape)"
   ]
  },
  {
   "cell_type": "code",
   "execution_count": 52,
   "id": "5f0ef1fe",
   "metadata": {
    "scrolled": true
   },
   "outputs": [
    {
     "data": {
      "text/plain": [
       "4"
      ]
     },
     "execution_count": 52,
     "metadata": {},
     "output_type": "execute_result"
    }
   ],
   "source": [
    "features.index('trackBTag_Momentum')"
   ]
  },
  {
   "cell_type": "code",
   "execution_count": 53,
   "id": "ac7345f8",
   "metadata": {},
   "outputs": [
    {
     "name": "stdout",
     "output_type": "stream",
     "text": [
      "462.19162\n",
      "100.69239\n",
      "59.379467\n",
      "46.633453\n",
      "29.689539\n",
      "23.133604\n",
      "20.600712\n",
      "17.354967\n",
      "15.507888\n",
      "8.719406\n"
     ]
    }
   ],
   "source": [
    "for x in feature_array[24][:,4]:\n",
    "    print(x)"
   ]
  },
  {
   "cell_type": "code",
   "execution_count": null,
   "id": "9f52fe6b",
   "metadata": {},
   "outputs": [],
   "source": []
  },
  {
   "cell_type": "code",
   "execution_count": null,
   "id": "8d27ff7f",
   "metadata": {},
   "outputs": [],
   "source": []
  },
  {
   "cell_type": "markdown",
   "id": "6df3a572",
   "metadata": {},
   "source": [
    "# Multi-File Test"
   ]
  },
  {
   "cell_type": "code",
   "execution_count": 54,
   "id": "ddc946e3",
   "metadata": {},
   "outputs": [
    {
     "name": "stdout",
     "output_type": "stream",
     "text": [
      "Number of events padded: 1377\n",
      "Number of events padded: 1332\n"
     ]
    }
   ],
   "source": [
    "fls = [0,10]  #,11]\n",
    "\n",
    "data = np.array([])\n",
    "lbl = np.array([])\n",
    "\n",
    "for i in fls:\n",
    "    feature_array, label_array = get_features(f'../root_files/ntuple_merged_{i}.root',FetLbls,'trackBTag_Momentum',10)\n",
    "    \n",
    "    if len(data) == 0:\n",
    "        data = feature_array\n",
    "        lbl = label_array\n",
    "    else:\n",
    "        data = np.concatenate((data,feature_array))\n",
    "        lbl = np.concatenate((lbl,label_array))"
   ]
  },
  {
   "cell_type": "code",
   "execution_count": 56,
   "id": "285d8ae2",
   "metadata": {},
   "outputs": [
    {
     "data": {
      "text/plain": [
       "(98848, 10, 28)"
      ]
     },
     "execution_count": 56,
     "metadata": {},
     "output_type": "execute_result"
    }
   ],
   "source": [
    "data.shape"
   ]
  },
  {
   "cell_type": "code",
   "execution_count": null,
   "id": "8bb771a0",
   "metadata": {},
   "outputs": [],
   "source": []
  }
 ],
 "metadata": {
  "kernelspec": {
   "display_name": "Python 3 (ipykernel)",
   "language": "python",
   "name": "python3"
  },
  "language_info": {
   "codemirror_mode": {
    "name": "ipython",
    "version": 3
   },
   "file_extension": ".py",
   "mimetype": "text/x-python",
   "name": "python",
   "nbconvert_exporter": "python",
   "pygments_lexer": "ipython3",
   "version": "3.10.6"
  }
 },
 "nbformat": 4,
 "nbformat_minor": 5
}
