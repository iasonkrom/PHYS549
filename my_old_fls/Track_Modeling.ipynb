{
 "cells": [
  {
   "cell_type": "code",
   "execution_count": 1,
   "id": "a7638003",
   "metadata": {},
   "outputs": [
    {
     "name": "stderr",
     "output_type": "stream",
     "text": [
      "2022-11-29 20:03:31.422634: I tensorflow/core/platform/cpu_feature_guard.cc:193] This TensorFlow binary is optimized with oneAPI Deep Neural Network Library (oneDNN) to use the following CPU instructions in performance-critical operations:  SSE4.1 SSE4.2 AVX AVX2 FMA\n",
      "To enable them in other operations, rebuild TensorFlow with the appropriate compiler flags.\n",
      "/Users/collinarbour/anaconda3/envs/Work/lib/python3.10/site-packages/tqdm/auto.py:22: TqdmWarning: IProgress not found. Please update jupyter and ipywidgets. See https://ipywidgets.readthedocs.io/en/stable/user_install.html\n",
      "  from .autonotebook import tqdm as notebook_tqdm\n"
     ]
    }
   ],
   "source": [
    "# imports\n",
    "\n",
    "import numpy as np\n",
    "\n",
    "import keras\n",
    "from keras.layers import Input, Dense, BatchNormalization\n",
    "from keras.callbacks import ModelCheckpoint, EarlyStopping\n",
    "\n",
    "from tqdm.auto import tqdm \n",
    "\n",
    "from sklearn.metrics import roc_curve, auc\n",
    "from sklearn.preprocessing import StandardScaler\n",
    "from sklearn.decomposition import PCA\n",
    "from sklearn.discriminant_analysis import LinearDiscriminantAnalysis\n",
    "\n",
    "import matplotlib.pyplot as plt\n",
    "import uproot\n",
    "import awkward as ak\n",
    "\n",
    "import pandas as pd\n",
    "import seaborn as sns"
   ]
  },
  {
   "cell_type": "code",
   "execution_count": 2,
   "id": "84b2b38d",
   "metadata": {},
   "outputs": [],
   "source": [
    "# latex settings block\n",
    "\n",
    "plt.rcParams.update({\n",
    "    \"text.usetex\": True,\n",
    "    \"font.family\": \"serif\",\n",
    "    \"font.serif\": [\"Palatino\"],\n",
    "    \"xtick.labelsize\": 18,\n",
    "    \"ytick.labelsize\": 18,\n",
    "    \"legend.numpoints\": 1,\n",
    "    \"axes.linewidth\": 2,\n",
    "    \"legend.title_fontsize\": 18,\n",
    "    \"axes.labelsize\": 18,\n",
    "    \"legend.fontsize\": 16\n",
    "})"
   ]
  },
  {
   "cell_type": "code",
   "execution_count": 3,
   "id": "4727666b",
   "metadata": {},
   "outputs": [],
   "source": [
    "def reshape(awk_ar,sorter,fet_lngth, ascending=False):                                                                                                 \n",
    "    '''\n",
    "    This function creates takes an awkward array of track information in an event, and formats it in a standard 2D array.\n",
    "    The tracks of an event are sorted according to the 'sorter' argument in descending order (greatest value first).\n",
    "    Events that have too many tracks are truncated, while those with too few are padded with zeros afterwards.\n",
    "    The returned array is an array of 2D arrays containing  track information for each event.\n",
    "    '''\n",
    "    evt_ar = [[] for i in range(len(awk_ar[0]))]\n",
    "    srt_idx = np.where(np.array(features)==sorter)[0][0]\n",
    "    \n",
    "    for fet in awk_ar:\n",
    "        for evt_n in range(len(fet)):\n",
    "            evt_ar[evt_n].append(np.array(fet[evt_n]))\n",
    "            \n",
    "    # Making 2D arrays for each event, where each each row of that event's 2D array is now a feature array\n",
    "    evt_ar2d = []\n",
    "    \n",
    "    for evt in evt_ar:\n",
    "        evt_ar2d.append(np.stack(evt))\n",
    "        \n",
    "    # Now sorting each 2d array's columns according to the 'sorter' feature\n",
    "    evt_ar2d_srtd = []\n",
    "    \n",
    "    for evt in evt_ar2d:\n",
    "        idcs = evt[srt_idx].argsort()[::-1]\n",
    "        evt_ar2d_srtd.append(evt[:,idcs])\n",
    "        \n",
    "    # Now need to standardize feature array per event\n",
    "    evt_std = []\n",
    "    npad = 0\n",
    "    \n",
    "    for evt in evt_ar2d_srtd:\n",
    "        if len(evt[0]) > fet_lngth:\n",
    "            evt_std.append( np.swapaxes(evt[:,:fet_lngth],0,1) )\n",
    "#             evt_std.append( evt[:,:fet_lngth].flatten() )\n",
    "        else:\n",
    "            npad += 1\n",
    "            padded = np.pad(evt,((0,0),(0,fet_lngth - len(evt[0]))))\n",
    "            evt_std.append( np.swapaxes(padded,0,1) )\n",
    "#             evt_std.append( np.pad(evt,((0,0),(0,fet_lngth - len(evt[0])))).flatten() )\n",
    "\n",
    "    print('Number of events padded: {}'.format(npad))\n",
    "    \n",
    "    return evt_std"
   ]
  },
  {
   "cell_type": "code",
   "execution_count": 8,
   "id": "8831710c",
   "metadata": {},
   "outputs": [],
   "source": [
    "def get_features(file_name, var_sort, ntrx):\n",
    "    '''\n",
    "    Function that extracts our chosen feature and label arrays from a root file\n",
    "    for the events that are labeled as QCD or Hbb and returns two 2D arrays.\n",
    "    The first array is the features array and has the shape (nummber_of_events, number_of_features).\n",
    "    The second array is the labels array ans has the shape (number_of_events, 2)\n",
    "    '''\n",
    "    with uproot.open(f\"{file_name}:deepntuplizer/tree\") as tree:\n",
    "\n",
    "        fet_data = []\n",
    "        lbl_data = []\n",
    "        \n",
    "        for fet in features:\n",
    "            fet_data.append(np.array(tree[fet]))\n",
    "            \n",
    "        for lbl in labels:\n",
    "            lbl_data.append(np.array(tree[lbl]))\n",
    "\n",
    "        feature_array = reshape(fet_data, var_sort, ntrx)\n",
    "\n",
    "        # This part organizes it by event, rather than feature. (features move from rows to columns)\n",
    "        label_array = np.stack(lbl_data,axis=-1)\n",
    "        \n",
    "#         feature_array = np.array(feature_array)[label_array.any(1)]\n",
    "#         label_array = label_array[label_array.any(1)]\n",
    "        \n",
    "    #     return label_array\n",
    "    return feature_array, label_array"
   ]
  },
  {
   "cell_type": "code",
   "execution_count": null,
   "id": "4e24f03e",
   "metadata": {},
   "outputs": [],
   "source": []
  },
  {
   "cell_type": "code",
   "execution_count": 9,
   "id": "5b5df275",
   "metadata": {},
   "outputs": [],
   "source": [
    "with uproot.open(f\"../root_files/ntuple_merged_0.root:deepntuplizer/tree\") as tree:\n",
    "    features = [x for x in tree.keys() if x[:5]=='track']\n",
    "    \n",
    "labels = ['sample_isQCD','label_H_bb']"
   ]
  },
  {
   "cell_type": "code",
   "execution_count": 26,
   "id": "80baf954",
   "metadata": {
    "scrolled": true
   },
   "outputs": [
    {
     "name": "stdout",
     "output_type": "stream",
     "text": [
      "Number of events padded: 8660\n"
     ]
    }
   ],
   "source": [
    "feature_array, label_array = get_features('../root_files/ntuple_merged_0.root','trackBTag_Momentum',10)"
   ]
  },
  {
   "cell_type": "code",
   "execution_count": 12,
   "id": "1433c825",
   "metadata": {},
   "outputs": [],
   "source": [
    "feature_array = np.array(feature_array)"
   ]
  },
  {
   "cell_type": "code",
   "execution_count": 13,
   "id": "282c4fc8",
   "metadata": {
    "scrolled": false
   },
   "outputs": [
    {
     "name": "stdout",
     "output_type": "stream",
     "text": [
      "(200000, 10, 45)\n",
      "(200000, 2)\n"
     ]
    }
   ],
   "source": [
    "print(feature_array.shape)\n",
    "print(label_array.shape)"
   ]
  },
  {
   "cell_type": "code",
   "execution_count": 24,
   "id": "5f0ef1fe",
   "metadata": {
    "scrolled": true
   },
   "outputs": [
    {
     "data": {
      "text/plain": [
       "24"
      ]
     },
     "execution_count": 24,
     "metadata": {},
     "output_type": "execute_result"
    }
   ],
   "source": [
    "features.index('track_dxy')"
   ]
  },
  {
   "cell_type": "code",
   "execution_count": 25,
   "id": "ac7345f8",
   "metadata": {},
   "outputs": [
    {
     "name": "stdout",
     "output_type": "stream",
     "text": [
      "0.002010498\n",
      "-0.0025805663\n",
      "0.00091308594\n",
      "0.0011486816\n",
      "-0.0039697266\n",
      "0.00015220643\n",
      "-0.00083068846\n",
      "0.0014111329\n",
      "0.0020080567\n",
      "-0.0011468506\n"
     ]
    }
   ],
   "source": [
    "for x in feature_array[54][:,24]:\n",
    "    print(x)"
   ]
  },
  {
   "cell_type": "code",
   "execution_count": null,
   "id": "9f52fe6b",
   "metadata": {},
   "outputs": [],
   "source": []
  },
  {
   "cell_type": "code",
   "execution_count": null,
   "id": "8d27ff7f",
   "metadata": {},
   "outputs": [],
   "source": []
  },
  {
   "cell_type": "code",
   "execution_count": 46,
   "id": "c9fbb9e7",
   "metadata": {},
   "outputs": [
    {
     "data": {
      "text/plain": [
       "False"
      ]
     },
     "execution_count": 46,
     "metadata": {},
     "output_type": "execute_result"
    }
   ],
   "source": [
    "np.isnan(label_array).any()"
   ]
  },
  {
   "cell_type": "code",
   "execution_count": 47,
   "id": "de3eef78",
   "metadata": {},
   "outputs": [
    {
     "data": {
      "text/plain": [
       "array([[1, 0],\n",
       "       [1, 0],\n",
       "       [0, 1],\n",
       "       ...,\n",
       "       [1, 0],\n",
       "       [1, 0],\n",
       "       [1, 0]], dtype=int32)"
      ]
     },
     "execution_count": 47,
     "metadata": {},
     "output_type": "execute_result"
    }
   ],
   "source": [
    "label_array"
   ]
  },
  {
   "cell_type": "code",
   "execution_count": null,
   "id": "3ac6d812",
   "metadata": {},
   "outputs": [],
   "source": []
  },
  {
   "cell_type": "code",
   "execution_count": null,
   "id": "8bb771a0",
   "metadata": {},
   "outputs": [],
   "source": []
  },
  {
   "cell_type": "code",
   "execution_count": null,
   "id": "41906dfb",
   "metadata": {},
   "outputs": [],
   "source": []
  },
  {
   "cell_type": "code",
   "execution_count": 52,
   "id": "8ca2c941",
   "metadata": {},
   "outputs": [],
   "source": [
    "def my_loss_fn(y_true, y_pred):\n",
    "    squared_difference = np.square(y_true - y_pred)\n",
    "    return keras.reduce_mean(squared_difference, axis=-1)  # Note the `axis=-1`"
   ]
  },
  {
   "cell_type": "code",
   "execution_count": null,
   "id": "fdbbb3b1",
   "metadata": {},
   "outputs": [],
   "source": []
  },
  {
   "cell_type": "markdown",
   "id": "d10ed0f9",
   "metadata": {},
   "source": [
    "# Making Models"
   ]
  },
  {
   "cell_type": "code",
   "execution_count": 37,
   "id": "34e0a7b8",
   "metadata": {},
   "outputs": [],
   "source": [
    "keras_model = keras.Sequential()\n",
    "keras_model.add(keras.layers.Flatten())\n",
    "keras_model.add(Dense(units=45,activation='relu'))\n",
    "keras_model.add(Dense(units=45,activation='relu'))\n",
    "keras_model.add(Dense(units=45,activation='relu'))\n",
    "keras_model.add(Dense(units=2,activation='softmax'))\n",
    "#keras_model.save_weights('random_weights.h5')\n",
    "#print(keras_model.summary())"
   ]
  },
  {
   "cell_type": "code",
   "execution_count": 53,
   "id": "c8bb927a",
   "metadata": {
    "scrolled": true
   },
   "outputs": [
    {
     "name": "stdout",
     "output_type": "stream",
     "text": [
      "Epoch 1/100\n"
     ]
    },
    {
     "ename": "TypeError",
     "evalue": "in user code:\n\n    File \"/Users/collinarbour/anaconda3/envs/Work/lib/python3.10/site-packages/keras/engine/training.py\", line 1160, in train_function  *\n        return step_function(self, iterator)\n    File \"/var/folders/n1/q0yl5j2d5qvcnc78yw8rs7qw0000gn/T/ipykernel_10815/2810428338.py\", line 2, in my_loss_fn  *\n        squared_difference = np.square(y_true - y_pred)\n\n    TypeError: Input 'y' of 'Sub' Op has type float32 that does not match type int32 of argument 'x'.\n",
     "output_type": "error",
     "traceback": [
      "\u001b[0;31m---------------------------------------------------------------------------\u001b[0m",
      "\u001b[0;31mTypeError\u001b[0m                                 Traceback (most recent call last)",
      "Cell \u001b[0;32mIn [53], line 5\u001b[0m\n\u001b[1;32m      3\u001b[0m \u001b[38;5;66;03m#keras_model.compile(optimizer=opt, loss='categorical_crossentropy', metrics=['accuracy'])\u001b[39;00m\n\u001b[1;32m      4\u001b[0m keras_model\u001b[38;5;241m.\u001b[39mcompile(optimizer\u001b[38;5;241m=\u001b[39mopt, loss\u001b[38;5;241m=\u001b[39mmy_loss_fn, metrics\u001b[38;5;241m=\u001b[39m[\u001b[38;5;124m'\u001b[39m\u001b[38;5;124maccuracy\u001b[39m\u001b[38;5;124m'\u001b[39m])\n\u001b[0;32m----> 5\u001b[0m history \u001b[38;5;241m=\u001b[39m \u001b[43mkeras_model\u001b[49m\u001b[38;5;241;43m.\u001b[39;49m\u001b[43mfit\u001b[49m\u001b[43m(\u001b[49m\u001b[43mfeature_array\u001b[49m\u001b[43m,\u001b[49m\u001b[43m \u001b[49m\u001b[43mlabel_array\u001b[49m\u001b[43m,\u001b[49m\u001b[43m \u001b[49m\u001b[43mbatch_size\u001b[49m\u001b[38;5;241;43m=\u001b[39;49m\u001b[38;5;241;43m1024\u001b[39;49m\u001b[43m,\u001b[49m\u001b[43m \u001b[49m\u001b[43mepochs\u001b[49m\u001b[38;5;241;43m=\u001b[39;49m\u001b[38;5;241;43m100\u001b[39;49m\u001b[43m,\u001b[49m\u001b[43m \u001b[49m\u001b[43mvalidation_split\u001b[49m\u001b[38;5;241;43m=\u001b[39;49m\u001b[38;5;241;43m0.2\u001b[39;49m\u001b[43m)\u001b[49m\n",
      "File \u001b[0;32m~/anaconda3/envs/Work/lib/python3.10/site-packages/keras/utils/traceback_utils.py:70\u001b[0m, in \u001b[0;36mfilter_traceback.<locals>.error_handler\u001b[0;34m(*args, **kwargs)\u001b[0m\n\u001b[1;32m     67\u001b[0m     filtered_tb \u001b[38;5;241m=\u001b[39m _process_traceback_frames(e\u001b[38;5;241m.\u001b[39m__traceback__)\n\u001b[1;32m     68\u001b[0m     \u001b[38;5;66;03m# To get the full stack trace, call:\u001b[39;00m\n\u001b[1;32m     69\u001b[0m     \u001b[38;5;66;03m# `tf.debugging.disable_traceback_filtering()`\u001b[39;00m\n\u001b[0;32m---> 70\u001b[0m     \u001b[38;5;28;01mraise\u001b[39;00m e\u001b[38;5;241m.\u001b[39mwith_traceback(filtered_tb) \u001b[38;5;28;01mfrom\u001b[39;00m \u001b[38;5;28mNone\u001b[39m\n\u001b[1;32m     71\u001b[0m \u001b[38;5;28;01mfinally\u001b[39;00m:\n\u001b[1;32m     72\u001b[0m     \u001b[38;5;28;01mdel\u001b[39;00m filtered_tb\n",
      "File \u001b[0;32m/var/folders/n1/q0yl5j2d5qvcnc78yw8rs7qw0000gn/T/__autograph_generated_fileur10_e0_.py:15\u001b[0m, in \u001b[0;36mouter_factory.<locals>.inner_factory.<locals>.tf__train_function\u001b[0;34m(iterator)\u001b[0m\n\u001b[1;32m     13\u001b[0m \u001b[38;5;28;01mtry\u001b[39;00m:\n\u001b[1;32m     14\u001b[0m     do_return \u001b[38;5;241m=\u001b[39m \u001b[38;5;28;01mTrue\u001b[39;00m\n\u001b[0;32m---> 15\u001b[0m     retval_ \u001b[38;5;241m=\u001b[39m ag__\u001b[38;5;241m.\u001b[39mconverted_call(ag__\u001b[38;5;241m.\u001b[39mld(step_function), (ag__\u001b[38;5;241m.\u001b[39mld(\u001b[38;5;28mself\u001b[39m), ag__\u001b[38;5;241m.\u001b[39mld(iterator)), \u001b[38;5;28;01mNone\u001b[39;00m, fscope)\n\u001b[1;32m     16\u001b[0m \u001b[38;5;28;01mexcept\u001b[39;00m:\n\u001b[1;32m     17\u001b[0m     do_return \u001b[38;5;241m=\u001b[39m \u001b[38;5;28;01mFalse\u001b[39;00m\n",
      "File \u001b[0;32m/var/folders/n1/q0yl5j2d5qvcnc78yw8rs7qw0000gn/T/__autograph_generated_filegczj_z_a.py:10\u001b[0m, in \u001b[0;36mouter_factory.<locals>.inner_factory.<locals>.tf__my_loss_fn\u001b[0;34m(y_true, y_pred)\u001b[0m\n\u001b[1;32m      8\u001b[0m do_return \u001b[38;5;241m=\u001b[39m \u001b[38;5;28;01mFalse\u001b[39;00m\n\u001b[1;32m      9\u001b[0m retval_ \u001b[38;5;241m=\u001b[39m ag__\u001b[38;5;241m.\u001b[39mUndefinedReturnValue()\n\u001b[0;32m---> 10\u001b[0m squared_difference \u001b[38;5;241m=\u001b[39m ag__\u001b[38;5;241m.\u001b[39mconverted_call(ag__\u001b[38;5;241m.\u001b[39mld(np)\u001b[38;5;241m.\u001b[39msquare, (\u001b[43mag__\u001b[49m\u001b[38;5;241;43m.\u001b[39;49m\u001b[43mld\u001b[49m\u001b[43m(\u001b[49m\u001b[43my_true\u001b[49m\u001b[43m)\u001b[49m\u001b[43m \u001b[49m\u001b[38;5;241;43m-\u001b[39;49m\u001b[43m \u001b[49m\u001b[43mag__\u001b[49m\u001b[38;5;241;43m.\u001b[39;49m\u001b[43mld\u001b[49m\u001b[43m(\u001b[49m\u001b[43my_pred\u001b[49m\u001b[43m)\u001b[49m,), \u001b[38;5;28;01mNone\u001b[39;00m, fscope)\n\u001b[1;32m     11\u001b[0m \u001b[38;5;28;01mtry\u001b[39;00m:\n\u001b[1;32m     12\u001b[0m     do_return \u001b[38;5;241m=\u001b[39m \u001b[38;5;28;01mTrue\u001b[39;00m\n",
      "\u001b[0;31mTypeError\u001b[0m: in user code:\n\n    File \"/Users/collinarbour/anaconda3/envs/Work/lib/python3.10/site-packages/keras/engine/training.py\", line 1160, in train_function  *\n        return step_function(self, iterator)\n    File \"/var/folders/n1/q0yl5j2d5qvcnc78yw8rs7qw0000gn/T/ipykernel_10815/2810428338.py\", line 2, in my_loss_fn  *\n        squared_difference = np.square(y_true - y_pred)\n\n    TypeError: Input 'y' of 'Sub' Op has type float32 that does not match type int32 of argument 'x'.\n"
     ]
    }
   ],
   "source": [
    "#keras_model.load_weights('random_weights.h5')\n",
    "opt = keras.optimizers.SGD(learning_rate=1e-4)\n",
    "#keras_model.compile(optimizer=opt, loss='categorical_crossentropy', metrics=['accuracy'])\n",
    "keras_model.compile(optimizer=opt, loss=my_loss_fn, metrics=['accuracy'])\n",
    "history = keras_model.fit(feature_array, label_array, batch_size=1024, epochs=100, validation_split=0.2)"
   ]
  },
  {
   "cell_type": "code",
   "execution_count": null,
   "id": "0e2a0ba3",
   "metadata": {},
   "outputs": [],
   "source": []
  }
 ],
 "metadata": {
  "kernelspec": {
   "display_name": "Python 3 (ipykernel)",
   "language": "python",
   "name": "python3"
  },
  "language_info": {
   "codemirror_mode": {
    "name": "ipython",
    "version": 3
   },
   "file_extension": ".py",
   "mimetype": "text/x-python",
   "name": "python",
   "nbconvert_exporter": "python",
   "pygments_lexer": "ipython3",
   "version": "3.10.6"
  }
 },
 "nbformat": 4,
 "nbformat_minor": 5
}
