{
 "cells": [
  {
   "cell_type": "code",
   "execution_count": 1,
   "id": "4f6daba4",
   "metadata": {},
   "outputs": [],
   "source": [
    "import numpy as np\n",
    "import pandas as pd\n",
    "from matplotlib import pyplot as plt\n",
    "import awkward as ak\n",
    "import uproot\n",
    "from tqdm.auto import tqdm"
   ]
  },
  {
   "cell_type": "code",
   "execution_count": 4,
   "id": "d7545671",
   "metadata": {},
   "outputs": [],
   "source": [
    "features = ['trackBTag_DeltaR',\n",
    "            'trackBTag_Eta',\n",
    "            'trackBTag_EtaRel',\n",
    "            'trackBTag_JetDistVal',\n",
    "            'trackBTag_Momentum',\n",
    "            'trackBTag_PPar',\n",
    "            'trackBTag_PParRatio',\n",
    "            'trackBTag_PtRatio',\n",
    "            'trackBTag_PtRel',\n",
    "            'trackBTag_Sip2dSig',\n",
    "            'trackBTag_Sip2dVal',\n",
    "            'trackBTag_Sip3dSig',\n",
    "            'trackBTag_Sip3dVal',\n",
    "            'track_charge',\n",
    "            'track_deltaR',\n",
    "            'track_drminsv',\n",
    "            'track_drsubjet1',\n",
    "            'track_drsubjet2',\n",
    "            'track_dxy',\n",
    "            'track_dxysig',\n",
    "            'track_dz',\n",
    "            'track_dzsig',\n",
    "            'track_erel',\n",
    "            'track_etarel',\n",
    "            'track_mass',\n",
    "            'track_phirel',\n",
    "            'track_pt',\n",
    "            'track_ptrel']"
   ]
  },
  {
   "cell_type": "code",
   "execution_count": 144,
   "id": "66b4ec91",
   "metadata": {},
   "outputs": [],
   "source": [
    "def return_sorted_3D_array(path, num_of_tracks = 10, sort_by = 'trackBTag_Momentum'):\n",
    "    \n",
    "    file = uproot.open(path)\n",
    "    events = file['deepntuplizer/tree']\n",
    "    max_length  = np.max(events['n_tracks'])\n",
    "    arrays = events.arrays(features, library='np')\n",
    "    padded_momenta = np.array([np.pad(v, (0, max_length - len(v)), 'constant') for v in arrays[sort_by]])\n",
    "    indices = np.flip(np.argsort(padded_momenta),axis=1)\n",
    "    row_idx = np.repeat(np.arange(indices.shape[0]),indices.shape[1]).reshape(indices.shape)\n",
    "    \n",
    "    sorted_arrays = {}\n",
    "\n",
    "    for key, arr in tqdm(arrays.items()):\n",
    "        padded = np.array([np.pad(v, (0, max_length - len(v)), 'constant') for v in arr])\n",
    "        sort = padded[row_idx,indices][:,:num_of_tracks]\n",
    "        sorted_arrays[key] = sort\n",
    "    \n",
    "    stacked_3d_array = np.stack(list(sorted_arrays.values()),axis=1)\n",
    "    \n",
    "    return stacked_3d_array"
   ]
  },
  {
   "cell_type": "code",
   "execution_count": 8,
   "id": "b87bdb79",
   "metadata": {},
   "outputs": [],
   "source": [
    "file = uproot.open(\"root_files/ntuple_merged_0.root\")\n",
    "events = file['deepntuplizer/tree']"
   ]
  },
  {
   "cell_type": "code",
   "execution_count": 9,
   "id": "f76abdf6",
   "metadata": {},
   "outputs": [],
   "source": [
    "max_length  = np.max(events['n_tracks'])"
   ]
  },
  {
   "cell_type": "code",
   "execution_count": 10,
   "id": "926fa1d6",
   "metadata": {},
   "outputs": [],
   "source": [
    "arrays = events.arrays(features, library='np')"
   ]
  },
  {
   "cell_type": "code",
   "execution_count": 11,
   "id": "d831bc5d",
   "metadata": {},
   "outputs": [],
   "source": [
    "padded = np.array([np.pad(v, (0, max_length - len(v)), 'constant') for v in arrays['trackBTag_Momentum']])"
   ]
  },
  {
   "cell_type": "code",
   "execution_count": 12,
   "id": "8cefff22",
   "metadata": {},
   "outputs": [],
   "source": [
    "indices = np.flip(np.argsort(padded),axis=1)"
   ]
  },
  {
   "cell_type": "code",
   "execution_count": 13,
   "id": "d7a4564e",
   "metadata": {},
   "outputs": [],
   "source": [
    "row_idx = np.repeat(np.arange(indices.shape[0]),indices.shape[1]).reshape(indices.shape)\n",
    "sort = padded[row_idx,indices]"
   ]
  },
  {
   "cell_type": "code",
   "execution_count": 14,
   "id": "5b5a06bb",
   "metadata": {},
   "outputs": [
    {
     "data": {
      "application/vnd.jupyter.widget-view+json": {
       "model_id": "4b3947853e0947079fd88f77042affe9",
       "version_major": 2,
       "version_minor": 0
      },
      "text/plain": [
       "  0%|          | 0/28 [00:00<?, ?it/s]"
      ]
     },
     "metadata": {},
     "output_type": "display_data"
    }
   ],
   "source": [
    "sorted_arrays = {}\n",
    "\n",
    "for key, arr in tqdm(arrays.items()):\n",
    "    padded = np.array([np.pad(v, (0, max_length - len(v)), 'constant') for v in arr])\n",
    "    sort = padded[row_idx,indices][:,:10]\n",
    "    sorted_arrays[key] = sort"
   ]
  },
  {
   "cell_type": "code",
   "execution_count": 15,
   "id": "3cb318f9",
   "metadata": {
    "scrolled": true
   },
   "outputs": [],
   "source": [
    "X_train = np.stack(list(sorted_arrays.values()),axis=1)"
   ]
  },
  {
   "cell_type": "code",
   "execution_count": 121,
   "id": "3e8d7a10",
   "metadata": {},
   "outputs": [
    {
     "data": {
      "text/plain": [
       "array([177.1975   , 176.45265  ,  71.62764  ,  67.66158  ,  46.1704   ,\n",
       "        39.87363  ,  33.209717 ,  26.0824   ,  21.016676 ,  19.867414 ,\n",
       "        19.121513 ,  18.676933 ,  18.667404 ,  16.606451 ,  14.34936  ,\n",
       "         5.9331737,   5.1374288,   4.3219485,   3.9893363,   2.3932638],\n",
       "      dtype=float32)"
      ]
     },
     "execution_count": 121,
     "metadata": {},
     "output_type": "execute_result"
    }
   ],
   "source": [
    "X_train[54,4,:]"
   ]
  },
  {
   "cell_type": "code",
   "execution_count": 24,
   "id": "25b68dc0",
   "metadata": {},
   "outputs": [
    {
     "data": {
      "text/plain": [
       "array([177.1975  , 176.45265 ,  71.62764 ,  67.66158 ,  46.1704  ,\n",
       "        39.87363 ,  33.209717,  26.0824  ,  21.016676,  19.867414],\n",
       "      dtype=float32)"
      ]
     },
     "execution_count": 24,
     "metadata": {},
     "output_type": "execute_result"
    }
   ],
   "source": [
    "sorted_arrays['trackBTag_Momentum'][54]"
   ]
  },
  {
   "cell_type": "code",
   "execution_count": 26,
   "id": "50cc159f",
   "metadata": {},
   "outputs": [
    {
     "data": {
      "text/plain": [
       "array([177.1975   , 176.45265  ,  71.62764  ,  67.66158  ,  46.1704   ,\n",
       "        39.87363  ,  33.209717 ,  26.0824   ,  21.016676 ,  19.867414 ,\n",
       "        19.121513 ,  18.676933 ,  18.667404 ,  16.606451 ,  14.34936  ,\n",
       "         5.9331737,   5.1374288,   4.3219485,   3.9893363,   2.3932638,\n",
       "         2.1719003,   1.7924364,   1.6737804,   1.4612821,   1.4068244,\n",
       "         1.4035587,   1.2309704,   1.0898428,   0.9976875], dtype=float32)"
      ]
     },
     "execution_count": 26,
     "metadata": {},
     "output_type": "execute_result"
    }
   ],
   "source": [
    "np.sort(arrays['trackBTag_Momentum'][54])[::-1]"
   ]
  },
  {
   "cell_type": "code",
   "execution_count": 27,
   "id": "41cdd4cb",
   "metadata": {},
   "outputs": [
    {
     "data": {
      "text/plain": [
       "array([5.831503 , 7.641682 , 4.215587 , 5.4569993, 5.468007 , 3.8082256,\n",
       "       4.04375  , 5.124672 , 4.5758867, 3.2280526], dtype=float32)"
      ]
     },
     "execution_count": 27,
     "metadata": {},
     "output_type": "execute_result"
    }
   ],
   "source": [
    "X_train[:,2,:][54]"
   ]
  },
  {
   "cell_type": "code",
   "execution_count": 40,
   "id": "53bdc928",
   "metadata": {
    "scrolled": true
   },
   "outputs": [
    {
     "data": {
      "text/plain": [
       "3.2280526"
      ]
     },
     "execution_count": 40,
     "metadata": {},
     "output_type": "execute_result"
    }
   ],
   "source": [
    "arrays[features[2]][54][16]"
   ]
  },
  {
   "cell_type": "code",
   "execution_count": 29,
   "id": "2958239e",
   "metadata": {},
   "outputs": [
    {
     "data": {
      "text/plain": [
       "array([  6,  24,  11,   9,   5,  19,  15,  23,   8,  16,  10,  22,  17,\n",
       "        27,  25,  14,  13,  28,  12,  18,  21,   3,   4,   2,  20,  26,\n",
       "         7,   0,   1,  45,  47,  48,  49,  50,  51,  52,  53,  54,  55,\n",
       "        56,  57,  58,  59,  60,  61,  46,  31,  44,  35,  29,  30,  63,\n",
       "        32,  33,  34,  36,  43,  37,  38,  39,  40,  41,  42,  62, 128,\n",
       "       127,  65,  98,  99, 100, 101, 102, 103, 104, 105, 106, 107, 108,\n",
       "       109, 110, 111, 112, 113, 114, 115, 116, 117, 118, 119, 120, 121,\n",
       "       122, 123, 124, 125, 126,  97,  96,  95,  79,  66,  67,  68,  69,\n",
       "        70,  71,  72,  73,  74,  75,  76,  77,  78,  80,  94,  81,  82,\n",
       "        83,  84,  85,  86,  87,  88,  89,  90,  91,  92,  93,  64])"
      ]
     },
     "execution_count": 29,
     "metadata": {},
     "output_type": "execute_result"
    }
   ],
   "source": [
    "indices[54]"
   ]
  },
  {
   "cell_type": "code",
   "execution_count": 46,
   "id": "a8c6c545",
   "metadata": {},
   "outputs": [
    {
     "data": {
      "application/vnd.jupyter.widget-view+json": {
       "model_id": "1fc4606c7ba449dc81e67cc95fb0daea",
       "version_major": 2,
       "version_minor": 0
      },
      "text/plain": [
       "  0%|          | 0/28 [00:00<?, ?it/s]"
      ]
     },
     "metadata": {},
     "output_type": "display_data"
    },
    {
     "name": "stdout",
     "output_type": "stream",
     "text": [
      "CPU times: user 55.1 s, sys: 1.76 s, total: 56.9 s\n",
      "Wall time: 56.9 s\n"
     ]
    }
   ],
   "source": [
    "%%time \n",
    "T3darray = return_sorted_3D_array(\"root_files/ntuple_merged_0.root\")"
   ]
  },
  {
   "cell_type": "code",
   "execution_count": 120,
   "id": "af97e520",
   "metadata": {},
   "outputs": [
    {
     "data": {
      "text/plain": [
       "array([5.831503 , 7.641682 , 4.215587 , 5.4569993, 5.468007 , 3.8082256,\n",
       "       4.04375  , 5.124672 , 4.5758867, 3.2280526], dtype=float32)"
      ]
     },
     "execution_count": 120,
     "metadata": {},
     "output_type": "execute_result"
    }
   ],
   "source": [
    "T3darray[54,2,:]"
   ]
  },
  {
   "cell_type": "code",
   "execution_count": 69,
   "id": "dd379239",
   "metadata": {
    "scrolled": true
   },
   "outputs": [
    {
     "data": {
      "text/plain": [
       "797548"
      ]
     },
     "execution_count": 69,
     "metadata": {},
     "output_type": "execute_result"
    }
   ],
   "source": [
    "np.sum(T3darray==0)"
   ]
  },
  {
   "cell_type": "code",
   "execution_count": 72,
   "id": "f394278c",
   "metadata": {},
   "outputs": [
    {
     "data": {
      "text/plain": [
       "56000000"
      ]
     },
     "execution_count": 72,
     "metadata": {},
     "output_type": "execute_result"
    }
   ],
   "source": [
    "np.prod(T3darray.shape)"
   ]
  },
  {
   "cell_type": "code",
   "execution_count": 85,
   "id": "13ae743d",
   "metadata": {},
   "outputs": [
    {
     "data": {
      "text/plain": [
       "array([[False, False, False, False, False, False, False, False, False,\n",
       "        False],\n",
       "       [False, False, False, False, False, False, False, False, False,\n",
       "        False],\n",
       "       [False, False, False, False, False, False, False, False, False,\n",
       "        False],\n",
       "       [False, False, False, False, False, False, False, False, False,\n",
       "        False],\n",
       "       [False, False, False, False, False, False, False, False, False,\n",
       "        False],\n",
       "       [False, False, False, False, False, False, False, False, False,\n",
       "        False],\n",
       "       [False, False, False, False, False, False, False, False, False,\n",
       "        False],\n",
       "       [False, False, False, False, False, False, False, False, False,\n",
       "        False],\n",
       "       [False, False, False, False, False, False, False, False, False,\n",
       "        False],\n",
       "       [False, False, False, False, False, False, False, False, False,\n",
       "        False],\n",
       "       [False, False, False, False, False, False, False, False, False,\n",
       "        False],\n",
       "       [False, False, False, False, False, False, False, False, False,\n",
       "        False],\n",
       "       [False, False, False, False, False, False, False, False, False,\n",
       "        False],\n",
       "       [False, False, False, False, False, False, False, False, False,\n",
       "        False],\n",
       "       [False, False, False, False, False, False, False, False, False,\n",
       "        False],\n",
       "       [False, False, False, False, False, False, False, False, False,\n",
       "        False],\n",
       "       [False, False, False, False, False, False, False, False, False,\n",
       "        False],\n",
       "       [False, False, False, False, False, False, False, False, False,\n",
       "        False],\n",
       "       [False, False, False, False, False, False, False, False, False,\n",
       "        False],\n",
       "       [False, False, False, False, False, False, False, False, False,\n",
       "        False],\n",
       "       [False, False, False, False, False, False, False, False, False,\n",
       "        False],\n",
       "       [False, False, False, False, False, False, False, False, False,\n",
       "        False],\n",
       "       [False, False, False, False, False, False, False, False, False,\n",
       "        False],\n",
       "       [False, False, False, False, False, False, False, False, False,\n",
       "        False],\n",
       "       [False, False, False, False, False, False, False, False, False,\n",
       "        False],\n",
       "       [False, False, False, False, False, False, False, False, False,\n",
       "        False],\n",
       "       [False, False, False, False, False, False, False, False, False,\n",
       "        False],\n",
       "       [False, False, False, False, False, False, False, False, False,\n",
       "        False]])"
      ]
     },
     "execution_count": 85,
     "metadata": {},
     "output_type": "execute_result"
    }
   ],
   "source": [
    "T3darray[846]==0"
   ]
  },
  {
   "cell_type": "code",
   "execution_count": 143,
   "id": "0dd00f3d",
   "metadata": {},
   "outputs": [
    {
     "name": "stdout",
     "output_type": "stream",
     "text": [
      "2060\n",
      "4512\n",
      "23663\n",
      "27692\n",
      "30109\n",
      "34938\n",
      "37344\n",
      "52464\n",
      "57695\n",
      "101570\n",
      "107996\n",
      "117810\n",
      "117857\n",
      "139298\n",
      "160531\n",
      "175012\n",
      "178422\n",
      "182459\n",
      "197147\n",
      "19\n"
     ]
    }
   ],
   "source": [
    "counter = 0\n",
    "for num,i in enumerate(T3darray):\n",
    "    if np.all(i==0) == True:\n",
    "        counter +=1\n",
    "        print(num)\n",
    "        \n",
    "print(counter)"
   ]
  },
  {
   "cell_type": "code",
   "execution_count": 115,
   "id": "949d18af",
   "metadata": {},
   "outputs": [
    {
     "name": "stdout",
     "output_type": "stream",
     "text": [
      "2060\n",
      "4512\n",
      "23663\n",
      "27692\n",
      "30109\n",
      "34938\n",
      "37344\n",
      "52464\n",
      "57695\n",
      "101570\n",
      "107996\n",
      "117810\n",
      "117857\n",
      "139298\n",
      "160531\n",
      "175012\n",
      "178422\n",
      "182459\n",
      "197147\n"
     ]
    }
   ],
   "source": [
    "for num,i in enumerate(events['ntracks'].array()):\n",
    "    if i==0:\n",
    "        print(num)"
   ]
  },
  {
   "cell_type": "code",
   "execution_count": null,
   "id": "ace15391",
   "metadata": {},
   "outputs": [],
   "source": []
  },
  {
   "cell_type": "code",
   "execution_count": 145,
   "id": "0bb2fd94",
   "metadata": {},
   "outputs": [
    {
     "data": {
      "application/vnd.jupyter.widget-view+json": {
       "model_id": "d7fb8e7c53364231a806ac81f21a6279",
       "version_major": 2,
       "version_minor": 0
      },
      "text/plain": [
       "  0%|          | 0/28 [00:00<?, ?it/s]"
      ]
     },
     "metadata": {},
     "output_type": "display_data"
    },
    {
     "name": "stdout",
     "output_type": "stream",
     "text": [
      "CPU times: user 55.2 s, sys: 3.08 s, total: 58.3 s\n",
      "Wall time: 59.2 s\n"
     ]
    }
   ],
   "source": [
    "%%time \n",
    "T3darray = return_sorted_3D_array(\"root_files/ntuple_merged_0.root\")"
   ]
  },
  {
   "cell_type": "code",
   "execution_count": null,
   "id": "53c5a697",
   "metadata": {},
   "outputs": [],
   "source": []
  }
 ],
 "metadata": {
  "kernelspec": {
   "display_name": "Python 3 (ipykernel)",
   "language": "python",
   "name": "python3"
  },
  "language_info": {
   "codemirror_mode": {
    "name": "ipython",
    "version": 3
   },
   "file_extension": ".py",
   "mimetype": "text/x-python",
   "name": "python",
   "nbconvert_exporter": "python",
   "pygments_lexer": "ipython3",
   "version": "3.10.8"
  }
 },
 "nbformat": 4,
 "nbformat_minor": 5
}
