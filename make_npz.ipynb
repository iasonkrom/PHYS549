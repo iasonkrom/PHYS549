{
 "cells": [
  {
   "cell_type": "code",
   "execution_count": 2,
   "id": "386f1812",
   "metadata": {},
   "outputs": [],
   "source": [
    "import os\n",
    "import numpy as np\n",
    "import pandas as pd\n",
    "import uproot\n",
    "import awkward as ak\n",
    "from tqdm.notebook import tqdm"
   ]
  },
  {
   "cell_type": "code",
   "execution_count": 4,
   "id": "25e1c62f",
   "metadata": {},
   "outputs": [],
   "source": [
    "# take the feature labels out of a root file\n",
    "with uproot.open(f\"root_files/ntuple_merged_0.root:deepntuplizer/tree;42\") as tree:\n",
    "    features = ['fj_jetNTracks','fj_nSV']+[x for x in tree.keys() if x[:6]=='fj_tau' or x[:8]=='fj_track'] \n",
    "\n",
    "# 2 labels: QCD or Hbb. Logical \"and\" of labels is used.\n",
    "labels = ['fj_isQCD*sample_isQCD',\n",
    "          'fj_isH*fj_isBB']\n",
    "\n",
    "nfeatures = len(features)\n",
    "nlabels = len(labels)"
   ]
  },
  {
   "cell_type": "code",
   "execution_count": 1,
   "id": "80b5ca17",
   "metadata": {},
   "outputs": [],
   "source": [
    "def get_labels(tree,label):\n",
    "    '''\n",
    "    Function to return the labels array out of a root tree.\n",
    "    This function is required because we use 2 sets of 2 lables each\n",
    "    where each set is combined with a logical \"and\".\n",
    "    For instance \"fj_isQCD and sample_isQCD\" is the final label to label a jet as\n",
    "    originating from QCD.\n",
    "    '''\n",
    "    prods = label.split('*')\n",
    "    facts = tree.arrays(prods,library='np')\n",
    "    labels = np.multiply(facts[prods[0]],facts[prods[1]])\n",
    "    return labels\n",
    "\n",
    "def get_features(file_name):\n",
    "    '''\n",
    "    Function that extracts our chosen feature and label arrays from a root file\n",
    "    for the events that are labeled as QCD or Hbb and returns two 2D arrays.\n",
    "    The first array is the features array and has the shape (nummber_of_events, number_of_features).\n",
    "    The second array is the labels array ans has the shape (number_of_events, 2)\n",
    "    '''\n",
    "    with uproot.open(f\"{file_name}:deepntuplizer/tree;42\") as tree:\n",
    "\n",
    "        feature_array = np.stack(list(tree.arrays(features,library='np').values()),axis=-1)\n",
    "        label_array = np.stack([get_labels(tree,i) for i in labels],axis=-1)\n",
    "        feature_array = feature_array[np.sum(label_array,axis=1)==1]\n",
    "        label_array = label_array[np.sum(label_array,axis=1)==1]\n",
    "        \n",
    "    return feature_array, label_array"
   ]
  },
  {
   "cell_type": "code",
   "execution_count": 67,
   "id": "5d6af671",
   "metadata": {
    "scrolled": true
   },
   "outputs": [
    {
     "data": {
      "application/vnd.jupyter.widget-view+json": {
       "model_id": "1c41c4c6b92e476ebfcfc1893c648c59",
       "version_major": 2,
       "version_minor": 0
      },
      "text/plain": [
       "  0%|          | 0/90 [00:00<?, ?it/s]"
      ]
     },
     "metadata": {},
     "output_type": "display_data"
    },
    {
     "name": "stdout",
     "output_type": "stream",
     "text": [
      "(375731, 31)\n",
      "(375731, 2)\n"
     ]
    }
   ],
   "source": [
    "final_features = np.empty((0,nfeatures))\n",
    "final_labels = np.empty((0,nlabels))\n",
    "\n",
    "for i in tqdm(range(90)):\n",
    "    file = f\"ntuple_merged_{i}.root\"\n",
    "    try:\n",
    "        feature_array, label_array = get_features(f'root_files/{file}')\n",
    "        final_features = np.vstack((final_features, feature_array))\n",
    "        final_labels = np.vstack((final_labels, label_array))    \n",
    "    except FileNotFoundError:\n",
    "        pass\n",
    "    \n",
    "print(final_features.shape)\n",
    "print(final_labels.shape)\n",
    "\n",
    "np.savez_compressed('root_files/features_and_labels.npz', features = final_features, labels = final_labels)"
   ]
  },
  {
   "cell_type": "code",
   "execution_count": null,
   "id": "8c4aabac",
   "metadata": {},
   "outputs": [],
   "source": []
  }
 ],
 "metadata": {
  "kernelspec": {
   "display_name": "Python 3 (ipykernel)",
   "language": "python",
   "name": "python3"
  },
  "language_info": {
   "codemirror_mode": {
    "name": "ipython",
    "version": 3
   },
   "file_extension": ".py",
   "mimetype": "text/x-python",
   "name": "python",
   "nbconvert_exporter": "python",
   "pygments_lexer": "ipython3",
   "version": "3.10.6"
  }
 },
 "nbformat": 4,
 "nbformat_minor": 5
}
