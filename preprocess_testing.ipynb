{
 "cells": [
  {
   "cell_type": "markdown",
   "id": "953c35fa",
   "metadata": {},
   "source": [
    "# This notebook runs a similar preprocessing to the explore.ipynb notebook for the testing data set in order to test our models and saves a final file called \"test_<# of features>variables.npz\" inside the \"root_files\" folder"
   ]
  },
  {
   "cell_type": "code",
   "execution_count": 1,
   "id": "815ca109",
   "metadata": {},
   "outputs": [],
   "source": [
    "import keras\n",
    "import numpy as np\n",
    "import pandas as pd\n",
    "from sklearn.preprocessing import StandardScaler"
   ]
  },
  {
   "cell_type": "code",
   "execution_count": 2,
   "id": "bd6c8606",
   "metadata": {},
   "outputs": [],
   "source": [
    "with np.load(\"root_files/combined_test.npz\") as file:\n",
    "    feature_array_test = file['features']\n",
    "    label_array_test = file['labels']\n",
    "    \n",
    "    features = file['names'].tolist()\n",
    "    \n",
    "    nfeatures = len(features)\n",
    "    nlabels = 2"
   ]
  },
  {
   "cell_type": "code",
   "execution_count": 3,
   "id": "988df699",
   "metadata": {},
   "outputs": [],
   "source": [
    "df_test = pd.DataFrame(feature_array_test, columns=features)\n",
    "bkg_test = df_test[label_array_test[:,0]==1]\n",
    "sig_test = df_test[label_array_test[:,1]==1]"
   ]
  },
  {
   "cell_type": "code",
   "execution_count": 4,
   "id": "debf6c0e",
   "metadata": {},
   "outputs": [],
   "source": [
    "del feature_array_test, label_array_test"
   ]
  },
  {
   "cell_type": "code",
   "execution_count": 5,
   "id": "49ed0eb8",
   "metadata": {},
   "outputs": [],
   "source": [
    "sig_test_out = sig_test\n",
    "bkg_test_out = bkg_test"
   ]
  },
  {
   "cell_type": "code",
   "execution_count": 6,
   "id": "bbaf2f70",
   "metadata": {},
   "outputs": [
    {
     "name": "stdout",
     "output_type": "stream",
     "text": [
      "(1499756, 49)\n",
      "(1499756, 49)\n"
     ]
    }
   ],
   "source": [
    "print(bkg_test.shape)\n",
    "print(bkg_test_out.shape)"
   ]
  },
  {
   "cell_type": "code",
   "execution_count": 7,
   "id": "c9643aa3",
   "metadata": {},
   "outputs": [],
   "source": [
    "del bkg_test, sig_test, df_test"
   ]
  },
  {
   "cell_type": "code",
   "execution_count": 8,
   "id": "aa079ac3",
   "metadata": {},
   "outputs": [],
   "source": [
    "bkg_test_out = bkg_test_out.sample(len(sig_test_out)).reset_index(drop=True)"
   ]
  },
  {
   "cell_type": "code",
   "execution_count": 9,
   "id": "9fc1d3f2",
   "metadata": {},
   "outputs": [
    {
     "name": "stdout",
     "output_type": "stream",
     "text": [
      "(227871, 49)\n",
      "(227871, 49)\n"
     ]
    }
   ],
   "source": [
    "print(bkg_test_out.shape)\n",
    "print(sig_test_out.shape)"
   ]
  },
  {
   "cell_type": "code",
   "execution_count": 10,
   "id": "23c92efe",
   "metadata": {},
   "outputs": [],
   "source": [
    "# combine the testing signal and background dataframes into one with appropriate labeling columns\n",
    "hbb = np.concatenate((np.ones(len(sig_test_out)),np.zeros(len(bkg_test_out))), axis=None)\n",
    "QCD = np.concatenate((np.zeros(len(sig_test_out)),np.ones(len(bkg_test_out))), axis=None)\n",
    "testdata = pd.concat([sig_test_out, bkg_test_out])\n",
    "testdata['hbb'] = hbb\n",
    "testdata['QCD'] = QCD\n",
    "\n",
    "# shuffle and extract testing feature and label arrays\n",
    "test = testdata.sample(frac=1).reset_index(drop=True)\n",
    "X_test = test.iloc[:,:-2]\n",
    "y_test = test.iloc[:,-2:]"
   ]
  },
  {
   "cell_type": "code",
   "execution_count": 11,
   "id": "f24a94dd",
   "metadata": {},
   "outputs": [],
   "source": [
    "del testdata"
   ]
  },
  {
   "cell_type": "code",
   "execution_count": 12,
   "id": "0ca66fac",
   "metadata": {},
   "outputs": [],
   "source": [
    "scaler = StandardScaler()\n",
    "scaler.fit(X_test)\n",
    "\n",
    "X_test = scaler.transform(X_test)\n",
    "X_test = pd.DataFrame(X_test)"
   ]
  },
  {
   "cell_type": "code",
   "execution_count": 13,
   "id": "9950171f",
   "metadata": {},
   "outputs": [],
   "source": [
    "X_test_final =  X_test"
   ]
  },
  {
   "cell_type": "code",
   "execution_count": 14,
   "id": "e9bce4fb",
   "metadata": {},
   "outputs": [
    {
     "data": {
      "text/plain": [
       "(455742, 49)"
      ]
     },
     "execution_count": 14,
     "metadata": {},
     "output_type": "execute_result"
    }
   ],
   "source": [
    "X_test_final.shape"
   ]
  },
  {
   "cell_type": "code",
   "execution_count": 15,
   "id": "43eac67f",
   "metadata": {},
   "outputs": [],
   "source": [
    "np.savez(f'root_files/test_{len(features)}variables.npz', \n",
    "         X_test = X_test_final, y_test = y_test,\n",
    "         variables = features, labels = ['Hbb', 'QCD'])"
   ]
  },
  {
   "cell_type": "code",
   "execution_count": null,
   "id": "af3ac58c",
   "metadata": {},
   "outputs": [],
   "source": []
  }
 ],
 "metadata": {
  "kernelspec": {
   "display_name": "Python 3 (ipykernel)",
   "language": "python",
   "name": "python3"
  },
  "language_info": {
   "codemirror_mode": {
    "name": "ipython",
    "version": 3
   },
   "file_extension": ".py",
   "mimetype": "text/x-python",
   "name": "python",
   "nbconvert_exporter": "python",
   "pygments_lexer": "ipython3",
   "version": "3.10.8"
  }
 },
 "nbformat": 4,
 "nbformat_minor": 5
}
