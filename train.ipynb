{
 "cells": [
  {
   "cell_type": "code",
   "execution_count": 1,
   "metadata": {},
   "outputs": [],
   "source": [
    "import keras\n",
    "import numpy as np\n",
    "from keras.models import Model\n",
    "from keras.layers import Input, Dense, BatchNormalization\n",
    "from keras.callbacks import ModelCheckpoint, EarlyStopping\n",
    "from sklearn.metrics import roc_curve, auc\n",
    "import matplotlib.pyplot as plt\n",
    "import uproot\n",
    "import awkward as ak"
   ]
  },
  {
   "cell_type": "code",
   "execution_count": 2,
   "metadata": {},
   "outputs": [],
   "source": [
    "plt.rcParams.update({\n",
    "    \"text.usetex\": True,\n",
    "    \"font.family\": \"serif\",\n",
    "    \"font.serif\": [\"Palatino\"],\n",
    "    \"xtick.labelsize\": 18,\n",
    "    \"ytick.labelsize\": 18,\n",
    "    \"legend.numpoints\": 1,\n",
    "    \"axes.linewidth\": 2,\n",
    "    \"legend.title_fontsize\": 18,\n",
    "    \"axes.labelsize\": 18,\n",
    "    \"legend.fontsize\": 16\n",
    "})"
   ]
  },
  {
   "cell_type": "code",
   "execution_count": 3,
   "metadata": {},
   "outputs": [],
   "source": [
    "# features\n",
    "with uproot.open(f\"root_files/ntuple_merged_0.root:deepntuplizer/tree;42\") as tree:\n",
    "    features = ['fj_jetNTracks','fj_nSV']+[x for x in tree.keys() if x[:6]=='fj_tau' or x[:8]=='fj_track'] \n",
    "\n",
    "# 2 labels: QCD or Hbb\n",
    "labels = ['fj_isQCD*sample_isQCD',\n",
    "          'fj_isH*fj_isBB']\n",
    "\n",
    "nfeatures = len(features)\n",
    "nlabels = len(labels)"
   ]
  },
  {
   "cell_type": "code",
   "execution_count": 4,
   "metadata": {},
   "outputs": [],
   "source": [
    "def get_labels(tree,label):\n",
    "    prods = label.split('*')\n",
    "    facts = tree.arrays(prods,library='np')\n",
    "    labels = np.multiply(facts[prods[0]],facts[prods[1]])\n",
    "    return labels\n",
    "\n",
    "def get_features(file_name):\n",
    "    \n",
    "    with uproot.open(f\"{file_name}:deepntuplizer/tree;42\") as tree:\n",
    "\n",
    "        feature_array = np.stack(list(tree.arrays(features,library='np').values()),axis=-1)\n",
    "        label_array = np.stack([get_labels(tree,i) for i in labels],axis=-1)\n",
    "        feature_array = feature_array[np.sum(label_array,axis=1)==1]\n",
    "        label_array = label_array[np.sum(label_array,axis=1)==1]\n",
    "        \n",
    "    return feature_array, label_array"
   ]
  },
  {
   "cell_type": "code",
   "execution_count": 5,
   "metadata": {},
   "outputs": [],
   "source": [
    "feature_array, label_array = get_features('root_files/ntuple_merged_10.root')"
   ]
  },
  {
   "cell_type": "code",
   "execution_count": 6,
   "metadata": {},
   "outputs": [
    {
     "name": "stdout",
     "output_type": "stream",
     "text": [
      "Model: \"sequential\"\n",
      "_________________________________________________________________\n",
      " Layer (type)                Output Shape              Param #   \n",
      "=================================================================\n",
      " dense (Dense)               (None, 32)                1024      \n",
      "                                                                 \n",
      " dense_1 (Dense)             (None, 32)                1056      \n",
      "                                                                 \n",
      " dense_2 (Dense)             (None, 2)                 66        \n",
      "                                                                 \n",
      "=================================================================\n",
      "Total params: 2,146\n",
      "Trainable params: 2,146\n",
      "Non-trainable params: 0\n",
      "_________________________________________________________________\n",
      "None\n"
     ]
    }
   ],
   "source": [
    "keras_model = keras.Sequential()\n",
    "keras_model.add(Dense(units=32,activation='relu',input_dim=nfeatures))\n",
    "keras_model.add(Dense(units=32,activation='relu'))\n",
    "keras_model.add(Dense(units=2,activation='softmax'))\n",
    "keras_model.compile(optimizer='adam', loss='categorical_crossentropy', metrics=['accuracy'])\n",
    "print(keras_model.summary())"
   ]
  },
  {
   "cell_type": "code",
   "execution_count": 7,
   "metadata": {
    "scrolled": true
   },
   "outputs": [
    {
     "data": {
      "text/plain": [
       "187819"
      ]
     },
     "execution_count": 7,
     "metadata": {},
     "output_type": "execute_result"
    }
   ],
   "source": [
    "24644 + 163175"
   ]
  },
  {
   "cell_type": "code",
   "execution_count": 8,
   "metadata": {
    "scrolled": true
   },
   "outputs": [
    {
     "name": "stdout",
     "output_type": "stream",
     "text": [
      "Epoch 1/100\n",
      " 68/147 [============>.................] - ETA: 0s - loss: 0.4930 - accuracy: 0.8614 "
     ]
    },
    {
     "name": "stderr",
     "output_type": "stream",
     "text": [
      "2022-09-28 18:04:45.000666: W tensorflow/core/platform/profile_utils/cpu_utils.cc:128] Failed to get CPU frequency: 0 Hz\n"
     ]
    },
    {
     "name": "stdout",
     "output_type": "stream",
     "text": [
      "147/147 [==============================] - 0s 2ms/step - loss: 0.3836 - accuracy: 0.8788 - val_loss: 0.2771 - val_accuracy: 0.8949\n",
      "Epoch 2/100\n",
      "147/147 [==============================] - 0s 1ms/step - loss: 0.2644 - accuracy: 0.8981 - val_loss: 0.2612 - val_accuracy: 0.8988\n",
      "Epoch 3/100\n",
      "147/147 [==============================] - 0s 1ms/step - loss: 0.2517 - accuracy: 0.9023 - val_loss: 0.2511 - val_accuracy: 0.9020\n",
      "Epoch 4/100\n",
      "147/147 [==============================] - 0s 1ms/step - loss: 0.2431 - accuracy: 0.9053 - val_loss: 0.2426 - val_accuracy: 0.9054\n",
      "Epoch 5/100\n",
      "147/147 [==============================] - 0s 1ms/step - loss: 0.2353 - accuracy: 0.9081 - val_loss: 0.2347 - val_accuracy: 0.9074\n",
      "Epoch 6/100\n",
      "147/147 [==============================] - 0s 1ms/step - loss: 0.2263 - accuracy: 0.9113 - val_loss: 0.2274 - val_accuracy: 0.9105\n",
      "Epoch 7/100\n",
      "147/147 [==============================] - 0s 1ms/step - loss: 0.2190 - accuracy: 0.9139 - val_loss: 0.2166 - val_accuracy: 0.9141\n",
      "Epoch 8/100\n",
      "147/147 [==============================] - 0s 999us/step - loss: 0.2124 - accuracy: 0.9162 - val_loss: 0.2123 - val_accuracy: 0.9148\n",
      "Epoch 9/100\n",
      "147/147 [==============================] - 0s 1ms/step - loss: 0.2070 - accuracy: 0.9182 - val_loss: 0.2055 - val_accuracy: 0.9186\n",
      "Epoch 10/100\n",
      "147/147 [==============================] - 0s 1ms/step - loss: 0.2037 - accuracy: 0.9198 - val_loss: 0.2036 - val_accuracy: 0.9193\n",
      "Epoch 11/100\n",
      "147/147 [==============================] - 0s 1ms/step - loss: 0.1995 - accuracy: 0.9212 - val_loss: 0.2051 - val_accuracy: 0.9184\n",
      "Epoch 12/100\n",
      "147/147 [==============================] - 0s 1ms/step - loss: 0.1975 - accuracy: 0.9220 - val_loss: 0.1990 - val_accuracy: 0.9205\n",
      "Epoch 13/100\n",
      "147/147 [==============================] - 0s 1ms/step - loss: 0.1937 - accuracy: 0.9233 - val_loss: 0.1958 - val_accuracy: 0.9226\n",
      "Epoch 14/100\n",
      "147/147 [==============================] - 0s 1ms/step - loss: 0.1919 - accuracy: 0.9239 - val_loss: 0.1956 - val_accuracy: 0.9225\n",
      "Epoch 15/100\n",
      "147/147 [==============================] - 0s 1ms/step - loss: 0.1898 - accuracy: 0.9246 - val_loss: 0.1922 - val_accuracy: 0.9230\n",
      "Epoch 16/100\n",
      "147/147 [==============================] - 0s 1ms/step - loss: 0.1883 - accuracy: 0.9250 - val_loss: 0.1947 - val_accuracy: 0.9226\n",
      "Epoch 17/100\n",
      "147/147 [==============================] - 0s 995us/step - loss: 0.1864 - accuracy: 0.9262 - val_loss: 0.1924 - val_accuracy: 0.9239\n",
      "Epoch 18/100\n",
      "147/147 [==============================] - 0s 1ms/step - loss: 0.1850 - accuracy: 0.9268 - val_loss: 0.1890 - val_accuracy: 0.9245\n",
      "Epoch 19/100\n",
      "147/147 [==============================] - 0s 1ms/step - loss: 0.1840 - accuracy: 0.9269 - val_loss: 0.1901 - val_accuracy: 0.9246\n",
      "Epoch 20/100\n",
      "147/147 [==============================] - 0s 997us/step - loss: 0.1824 - accuracy: 0.9283 - val_loss: 0.1849 - val_accuracy: 0.9262\n",
      "Epoch 21/100\n",
      "147/147 [==============================] - 0s 996us/step - loss: 0.1804 - accuracy: 0.9286 - val_loss: 0.1845 - val_accuracy: 0.9264\n",
      "Epoch 22/100\n",
      "147/147 [==============================] - 0s 1ms/step - loss: 0.1797 - accuracy: 0.9289 - val_loss: 0.1834 - val_accuracy: 0.9274\n",
      "Epoch 23/100\n",
      "147/147 [==============================] - 0s 998us/step - loss: 0.1782 - accuracy: 0.9296 - val_loss: 0.1828 - val_accuracy: 0.9272\n",
      "Epoch 24/100\n",
      "147/147 [==============================] - 0s 1ms/step - loss: 0.1773 - accuracy: 0.9298 - val_loss: 0.1820 - val_accuracy: 0.9270\n",
      "Epoch 25/100\n",
      "147/147 [==============================] - 0s 1ms/step - loss: 0.1761 - accuracy: 0.9302 - val_loss: 0.1820 - val_accuracy: 0.9280\n",
      "Epoch 26/100\n",
      "147/147 [==============================] - 0s 1ms/step - loss: 0.1754 - accuracy: 0.9306 - val_loss: 0.1864 - val_accuracy: 0.9268\n",
      "Epoch 27/100\n",
      "147/147 [==============================] - 0s 1ms/step - loss: 0.1746 - accuracy: 0.9312 - val_loss: 0.1810 - val_accuracy: 0.9279\n",
      "Epoch 28/100\n",
      "147/147 [==============================] - 0s 1ms/step - loss: 0.1748 - accuracy: 0.9314 - val_loss: 0.1797 - val_accuracy: 0.9285\n",
      "Epoch 29/100\n",
      "147/147 [==============================] - 0s 997us/step - loss: 0.1732 - accuracy: 0.9314 - val_loss: 0.1783 - val_accuracy: 0.9290\n",
      "Epoch 30/100\n",
      "147/147 [==============================] - 0s 1ms/step - loss: 0.1726 - accuracy: 0.9317 - val_loss: 0.1780 - val_accuracy: 0.9295\n",
      "Epoch 31/100\n",
      "147/147 [==============================] - 0s 1ms/step - loss: 0.1721 - accuracy: 0.9323 - val_loss: 0.1765 - val_accuracy: 0.9294\n",
      "Epoch 32/100\n",
      "147/147 [==============================] - 0s 1ms/step - loss: 0.1709 - accuracy: 0.9325 - val_loss: 0.1779 - val_accuracy: 0.9293\n",
      "Epoch 33/100\n",
      "147/147 [==============================] - 0s 1ms/step - loss: 0.1699 - accuracy: 0.9331 - val_loss: 0.1763 - val_accuracy: 0.9296\n",
      "Epoch 34/100\n",
      "147/147 [==============================] - 0s 1ms/step - loss: 0.1701 - accuracy: 0.9333 - val_loss: 0.1759 - val_accuracy: 0.9307\n",
      "Epoch 35/100\n",
      "147/147 [==============================] - 0s 1ms/step - loss: 0.1693 - accuracy: 0.9332 - val_loss: 0.1753 - val_accuracy: 0.9306\n",
      "Epoch 36/100\n",
      "147/147 [==============================] - 0s 1ms/step - loss: 0.1686 - accuracy: 0.9335 - val_loss: 0.1737 - val_accuracy: 0.9318\n",
      "Epoch 37/100\n",
      "147/147 [==============================] - 0s 1ms/step - loss: 0.1682 - accuracy: 0.9341 - val_loss: 0.1808 - val_accuracy: 0.9290\n",
      "Epoch 38/100\n",
      "147/147 [==============================] - 0s 1ms/step - loss: 0.1686 - accuracy: 0.9331 - val_loss: 0.1745 - val_accuracy: 0.9306\n",
      "Epoch 39/100\n",
      "147/147 [==============================] - 0s 1ms/step - loss: 0.1677 - accuracy: 0.9340 - val_loss: 0.1741 - val_accuracy: 0.9308\n",
      "Epoch 40/100\n",
      "147/147 [==============================] - 0s 1ms/step - loss: 0.1674 - accuracy: 0.9338 - val_loss: 0.1730 - val_accuracy: 0.9320\n",
      "Epoch 41/100\n",
      "147/147 [==============================] - 0s 1ms/step - loss: 0.1667 - accuracy: 0.9343 - val_loss: 0.1724 - val_accuracy: 0.9326\n",
      "Epoch 42/100\n",
      "147/147 [==============================] - 0s 1ms/step - loss: 0.1666 - accuracy: 0.9346 - val_loss: 0.1759 - val_accuracy: 0.9307\n",
      "Epoch 43/100\n",
      "147/147 [==============================] - 0s 1ms/step - loss: 0.1671 - accuracy: 0.9345 - val_loss: 0.1782 - val_accuracy: 0.9291\n",
      "Epoch 44/100\n",
      "147/147 [==============================] - 0s 1ms/step - loss: 0.1652 - accuracy: 0.9350 - val_loss: 0.1723 - val_accuracy: 0.9325\n",
      "Epoch 45/100\n",
      "147/147 [==============================] - 0s 1ms/step - loss: 0.1651 - accuracy: 0.9348 - val_loss: 0.1714 - val_accuracy: 0.9325\n",
      "Epoch 46/100\n",
      "147/147 [==============================] - 0s 1ms/step - loss: 0.1655 - accuracy: 0.9351 - val_loss: 0.1749 - val_accuracy: 0.9313\n",
      "Epoch 47/100\n",
      "147/147 [==============================] - 0s 1ms/step - loss: 0.1648 - accuracy: 0.9352 - val_loss: 0.1709 - val_accuracy: 0.9328\n",
      "Epoch 48/100\n",
      "147/147 [==============================] - 0s 1ms/step - loss: 0.1674 - accuracy: 0.9346 - val_loss: 0.1758 - val_accuracy: 0.9303\n",
      "Epoch 49/100\n",
      "147/147 [==============================] - 0s 1ms/step - loss: 0.1644 - accuracy: 0.9356 - val_loss: 0.1710 - val_accuracy: 0.9328\n",
      "Epoch 50/100\n",
      "147/147 [==============================] - 0s 1ms/step - loss: 0.1636 - accuracy: 0.9360 - val_loss: 0.1693 - val_accuracy: 0.9329\n",
      "Epoch 51/100\n",
      "147/147 [==============================] - 0s 1ms/step - loss: 0.1640 - accuracy: 0.9358 - val_loss: 0.1696 - val_accuracy: 0.9332\n",
      "Epoch 52/100\n",
      "147/147 [==============================] - 0s 1ms/step - loss: 0.1630 - accuracy: 0.9360 - val_loss: 0.1694 - val_accuracy: 0.9331\n",
      "Epoch 53/100\n",
      "147/147 [==============================] - 0s 1ms/step - loss: 0.1629 - accuracy: 0.9361 - val_loss: 0.1707 - val_accuracy: 0.9324\n",
      "Epoch 54/100\n",
      "147/147 [==============================] - 0s 1ms/step - loss: 0.1640 - accuracy: 0.9356 - val_loss: 0.1706 - val_accuracy: 0.9326\n",
      "Epoch 55/100\n",
      "147/147 [==============================] - 0s 1ms/step - loss: 0.1627 - accuracy: 0.9359 - val_loss: 0.1696 - val_accuracy: 0.9328\n",
      "Epoch 56/100\n",
      "147/147 [==============================] - 0s 1ms/step - loss: 0.1620 - accuracy: 0.9363 - val_loss: 0.1685 - val_accuracy: 0.9339\n",
      "Epoch 57/100\n",
      "147/147 [==============================] - 0s 1ms/step - loss: 0.1620 - accuracy: 0.9364 - val_loss: 0.1698 - val_accuracy: 0.9341\n"
     ]
    },
    {
     "name": "stdout",
     "output_type": "stream",
     "text": [
      "Epoch 58/100\n",
      "147/147 [==============================] - 0s 1ms/step - loss: 0.1626 - accuracy: 0.9358 - val_loss: 0.1694 - val_accuracy: 0.9332\n",
      "Epoch 59/100\n",
      "147/147 [==============================] - 0s 999us/step - loss: 0.1615 - accuracy: 0.9368 - val_loss: 0.1694 - val_accuracy: 0.9326\n",
      "Epoch 60/100\n",
      "147/147 [==============================] - 0s 996us/step - loss: 0.1616 - accuracy: 0.9368 - val_loss: 0.1688 - val_accuracy: 0.9334\n",
      "Epoch 61/100\n",
      "147/147 [==============================] - 0s 995us/step - loss: 0.1618 - accuracy: 0.9365 - val_loss: 0.1700 - val_accuracy: 0.9338\n",
      "Epoch 62/100\n",
      "147/147 [==============================] - 0s 1ms/step - loss: 0.1616 - accuracy: 0.9362 - val_loss: 0.1739 - val_accuracy: 0.9323\n",
      "Epoch 63/100\n",
      "147/147 [==============================] - 0s 1ms/step - loss: 0.1608 - accuracy: 0.9371 - val_loss: 0.1674 - val_accuracy: 0.9340\n",
      "Epoch 64/100\n",
      "147/147 [==============================] - 0s 996us/step - loss: 0.1604 - accuracy: 0.9375 - val_loss: 0.1674 - val_accuracy: 0.9343\n",
      "Epoch 65/100\n",
      "147/147 [==============================] - 0s 999us/step - loss: 0.1612 - accuracy: 0.9370 - val_loss: 0.1718 - val_accuracy: 0.9317\n",
      "Epoch 66/100\n",
      "147/147 [==============================] - 0s 997us/step - loss: 0.1607 - accuracy: 0.9371 - val_loss: 0.1684 - val_accuracy: 0.9339\n",
      "Epoch 67/100\n",
      "147/147 [==============================] - 0s 998us/step - loss: 0.1613 - accuracy: 0.9370 - val_loss: 0.1700 - val_accuracy: 0.9325\n",
      "Epoch 68/100\n",
      "147/147 [==============================] - 0s 999us/step - loss: 0.1600 - accuracy: 0.9376 - val_loss: 0.1673 - val_accuracy: 0.9346\n",
      "Epoch 69/100\n",
      "147/147 [==============================] - 0s 1ms/step - loss: 0.1603 - accuracy: 0.9372 - val_loss: 0.1696 - val_accuracy: 0.9337\n",
      "Epoch 70/100\n",
      "147/147 [==============================] - 0s 1ms/step - loss: 0.1594 - accuracy: 0.9373 - val_loss: 0.1682 - val_accuracy: 0.9341\n",
      "Epoch 71/100\n",
      "147/147 [==============================] - 0s 1ms/step - loss: 0.1595 - accuracy: 0.9375 - val_loss: 0.1674 - val_accuracy: 0.9338\n",
      "Epoch 72/100\n",
      "147/147 [==============================] - 0s 1ms/step - loss: 0.1595 - accuracy: 0.9377 - val_loss: 0.1686 - val_accuracy: 0.9337\n",
      "Epoch 73/100\n",
      "147/147 [==============================] - 0s 1ms/step - loss: 0.1594 - accuracy: 0.9375 - val_loss: 0.1655 - val_accuracy: 0.9350\n",
      "Epoch 74/100\n",
      "147/147 [==============================] - 0s 1ms/step - loss: 0.1590 - accuracy: 0.9377 - val_loss: 0.1666 - val_accuracy: 0.9346\n",
      "Epoch 75/100\n",
      "147/147 [==============================] - 0s 1ms/step - loss: 0.1600 - accuracy: 0.9373 - val_loss: 0.1676 - val_accuracy: 0.9336\n",
      "Epoch 76/100\n",
      "147/147 [==============================] - 0s 1ms/step - loss: 0.1589 - accuracy: 0.9379 - val_loss: 0.1670 - val_accuracy: 0.9344\n",
      "Epoch 77/100\n",
      "147/147 [==============================] - 0s 995us/step - loss: 0.1586 - accuracy: 0.9384 - val_loss: 0.1681 - val_accuracy: 0.9345\n",
      "Epoch 78/100\n",
      "147/147 [==============================] - 0s 1ms/step - loss: 0.1587 - accuracy: 0.9379 - val_loss: 0.1667 - val_accuracy: 0.9343\n",
      "Epoch 79/100\n",
      "147/147 [==============================] - 0s 1ms/step - loss: 0.1580 - accuracy: 0.9384 - val_loss: 0.1670 - val_accuracy: 0.9342\n",
      "Epoch 80/100\n",
      "147/147 [==============================] - 0s 999us/step - loss: 0.1582 - accuracy: 0.9382 - val_loss: 0.1694 - val_accuracy: 0.9322\n",
      "Epoch 81/100\n",
      "147/147 [==============================] - 0s 1ms/step - loss: 0.1585 - accuracy: 0.9380 - val_loss: 0.1672 - val_accuracy: 0.9338\n",
      "Epoch 82/100\n",
      "147/147 [==============================] - 0s 993us/step - loss: 0.1578 - accuracy: 0.9385 - val_loss: 0.1676 - val_accuracy: 0.9346\n",
      "Epoch 83/100\n",
      "147/147 [==============================] - 0s 1ms/step - loss: 0.1575 - accuracy: 0.9388 - val_loss: 0.1675 - val_accuracy: 0.9335\n",
      "Epoch 84/100\n",
      "147/147 [==============================] - 0s 1ms/step - loss: 0.1571 - accuracy: 0.9384 - val_loss: 0.1656 - val_accuracy: 0.9338\n",
      "Epoch 85/100\n",
      "147/147 [==============================] - 0s 1ms/step - loss: 0.1581 - accuracy: 0.9384 - val_loss: 0.1667 - val_accuracy: 0.9338\n",
      "Epoch 86/100\n",
      "147/147 [==============================] - 0s 1ms/step - loss: 0.1580 - accuracy: 0.9385 - val_loss: 0.1684 - val_accuracy: 0.9334\n",
      "Epoch 87/100\n",
      "147/147 [==============================] - 0s 1ms/step - loss: 0.1574 - accuracy: 0.9383 - val_loss: 0.1655 - val_accuracy: 0.9351\n",
      "Epoch 88/100\n",
      "147/147 [==============================] - 0s 1ms/step - loss: 0.1575 - accuracy: 0.9386 - val_loss: 0.1648 - val_accuracy: 0.9357\n",
      "Epoch 89/100\n",
      "147/147 [==============================] - 0s 1ms/step - loss: 0.1575 - accuracy: 0.9386 - val_loss: 0.1678 - val_accuracy: 0.9348\n",
      "Epoch 90/100\n",
      "147/147 [==============================] - 0s 1ms/step - loss: 0.1568 - accuracy: 0.9391 - val_loss: 0.1657 - val_accuracy: 0.9345\n",
      "Epoch 91/100\n",
      "147/147 [==============================] - 0s 1ms/step - loss: 0.1571 - accuracy: 0.9390 - val_loss: 0.1671 - val_accuracy: 0.9338\n",
      "Epoch 92/100\n",
      "147/147 [==============================] - 0s 1ms/step - loss: 0.1569 - accuracy: 0.9389 - val_loss: 0.1676 - val_accuracy: 0.9345\n",
      "Epoch 93/100\n",
      "147/147 [==============================] - 0s 1ms/step - loss: 0.1569 - accuracy: 0.9388 - val_loss: 0.1658 - val_accuracy: 0.9349\n",
      "Epoch 94/100\n",
      "147/147 [==============================] - 0s 1ms/step - loss: 0.1570 - accuracy: 0.9389 - val_loss: 0.1654 - val_accuracy: 0.9347\n",
      "Epoch 95/100\n",
      "147/147 [==============================] - 0s 1ms/step - loss: 0.1562 - accuracy: 0.9393 - val_loss: 0.1650 - val_accuracy: 0.9353\n",
      "Epoch 96/100\n",
      "147/147 [==============================] - 0s 1ms/step - loss: 0.1572 - accuracy: 0.9393 - val_loss: 0.1664 - val_accuracy: 0.9343\n",
      "Epoch 97/100\n",
      "147/147 [==============================] - 0s 1ms/step - loss: 0.1571 - accuracy: 0.9388 - val_loss: 0.1666 - val_accuracy: 0.9340\n",
      "Epoch 98/100\n",
      "147/147 [==============================] - 0s 1ms/step - loss: 0.1567 - accuracy: 0.9389 - val_loss: 0.1668 - val_accuracy: 0.9336\n",
      "Epoch 99/100\n",
      "147/147 [==============================] - 0s 1ms/step - loss: 0.1564 - accuracy: 0.9389 - val_loss: 0.1668 - val_accuracy: 0.9353\n",
      "Epoch 100/100\n",
      "147/147 [==============================] - 0s 1ms/step - loss: 0.1559 - accuracy: 0.9391 - val_loss: 0.1670 - val_accuracy: 0.9341\n"
     ]
    },
    {
     "data": {
      "text/plain": [
       "<keras.callbacks.History at 0x15c32f5e0>"
      ]
     },
     "execution_count": 8,
     "metadata": {},
     "output_type": "execute_result"
    }
   ],
   "source": [
    "# fit keras model\n",
    "keras_model.fit(feature_array, label_array, batch_size=1024, \n",
    "                epochs=100, validation_split=0.2)"
   ]
  },
  {
   "cell_type": "code",
   "execution_count": 9,
   "metadata": {},
   "outputs": [],
   "source": [
    "# load testing file\n",
    "feature_array_test, label_array_test = get_features('root_files/ntuple_merged_0.root')"
   ]
  },
  {
   "cell_type": "code",
   "execution_count": 10,
   "metadata": {},
   "outputs": [
    {
     "name": "stdout",
     "output_type": "stream",
     "text": [
      "5873/5873 [==============================] - 1s 233us/step\n"
     ]
    },
    {
     "data": {
      "image/png": "[encoded data removed]",
      "text/plain": [
       "<Figure size 640x480 with 1 Axes>"
      ]
     },
     "metadata": {},
     "output_type": "display_data"
    }
   ],
   "source": [
    "# run model inference on test data set\n",
    "predict_array_test = keras_model.predict(feature_array_test)\n",
    "\n",
    "# create ROC curve\n",
    "fpr, tpr, threshold = roc_curve(label_array_test[:,1], predict_array_test[:,1])\n",
    "    \n",
    "# plot ROC curve\n",
    "plt.figure()\n",
    "plt.plot(tpr, fpr, lw=2, label=f\"AUC = {auc(fpr,tpr)*100:.1f}\\%\")\n",
    "plt.xlabel(r'True positive rate')\n",
    "plt.ylabel(r'False positive rate')\n",
    "plt.semilogy()\n",
    "plt.ylim(1e-5,1)\n",
    "plt.xlim(0,1)\n",
    "plt.grid()\n",
    "plt.legend(loc='upper left')\n",
    "plt.tight_layout()\n",
    "plt.savefig('ROC.pdf')\n",
    "plt.show()"
   ]
  },
  {
   "cell_type": "code",
   "execution_count": null,
   "metadata": {},
   "outputs": [],
   "source": []
  }
 ],
 "metadata": {
  "kernelspec": {
   "display_name": "Python 3 (ipykernel)",
   "language": "python",
   "name": "python3"
  },
  "language_info": {
   "codemirror_mode": {
    "name": "ipython",
    "version": 3
   },
   "file_extension": ".py",
   "mimetype": "text/x-python",
   "name": "python",
   "nbconvert_exporter": "python",
   "pygments_lexer": "ipython3",
   "version": "3.10.6"
  }
 },
 "nbformat": 4,
 "nbformat_minor": 2
}
