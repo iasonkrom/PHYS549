{
 "cells": [
  {
   "cell_type": "code",
   "execution_count": 1,
   "metadata": {},
   "outputs": [],
   "source": [
    "# imports\n",
    "\n",
    "import keras\n",
    "import numpy as np\n",
    "from keras.models import Model\n",
    "from keras.layers import Input, Dense, BatchNormalization\n",
    "from keras.callbacks import ModelCheckpoint, EarlyStopping\n",
    "from sklearn.metrics import roc_curve, auc\n",
    "import matplotlib.pyplot as plt\n",
    "import uproot\n",
    "import awkward as ak"
   ]
  },
  {
   "cell_type": "code",
   "execution_count": 2,
   "metadata": {},
   "outputs": [],
   "source": [
    "# latex settings block\n",
    "\n",
    "plt.rcParams.update({\n",
    "    \"text.usetex\": True,\n",
    "    \"font.family\": \"serif\",\n",
    "    \"font.serif\": [\"Palatino\"],\n",
    "    \"xtick.labelsize\": 18,\n",
    "    \"ytick.labelsize\": 18,\n",
    "    \"legend.numpoints\": 1,\n",
    "    \"axes.linewidth\": 2,\n",
    "    \"legend.title_fontsize\": 18,\n",
    "    \"axes.labelsize\": 18,\n",
    "    \"legend.fontsize\": 16\n",
    "})"
   ]
  },
  {
   "cell_type": "code",
   "execution_count": 3,
   "metadata": {},
   "outputs": [],
   "source": [
    "# take the feature labels out of a root file\n",
    "with uproot.open(f\"root_files/ntuple_merged_0.root:deepntuplizer/tree;42\") as tree:\n",
    "    features = ['fj_jetNTracks','fj_nSV']+[x for x in tree.keys() if x[:6]=='fj_tau' or x[:8]=='fj_track'] \n",
    "\n",
    "# 2 labels: QCD or Hbb. Logical \"and\" of labels is used.\n",
    "labels = ['fj_isQCD*sample_isQCD',\n",
    "          'fj_isH*fj_isBB']\n",
    "\n",
    "nfeatures = len(features)\n",
    "nlabels = len(labels)"
   ]
  },
  {
   "cell_type": "code",
   "execution_count": 4,
   "metadata": {},
   "outputs": [],
   "source": [
    "def get_labels(tree,label):\n",
    "    '''\n",
    "    Function to return the labels array out of a root tree.\n",
    "    This function is required because we use 2 sets of 2 lables each\n",
    "    where each set is combined with a logical \"and\".\n",
    "    For instance \"fj_isQCD and sample_isQCD\" is the final label to label a jet as\n",
    "    originating from QCD.\n",
    "    '''\n",
    "    prods = label.split('*')\n",
    "    facts = tree.arrays(prods,library='np')\n",
    "    labels = np.multiply(facts[prods[0]],facts[prods[1]])\n",
    "    return labels\n",
    "\n",
    "def get_features(file_name):\n",
    "    '''\n",
    "    Function that extracts our chosen feature and label arrays from a root file\n",
    "    for the events that are labeled as QCD or Hbb and returns two 2D arrays.\n",
    "    The first array is the features array and has the shape (nummber_of_events, number_of_features).\n",
    "    The second array is the labels array ans has the shape (number_of_events, 2)\n",
    "    '''\n",
    "    with uproot.open(f\"{file_name}:deepntuplizer/tree;42\") as tree:\n",
    "\n",
    "        feature_array = np.stack(list(tree.arrays(features,library='np').values()),axis=-1)\n",
    "        label_array = np.stack([get_labels(tree,i) for i in labels],axis=-1)\n",
    "        feature_array = feature_array[np.sum(label_array,axis=1)==1]\n",
    "        label_array = label_array[np.sum(label_array,axis=1)==1]\n",
    "        \n",
    "    return feature_array, label_array"
   ]
  },
  {
   "cell_type": "code",
   "execution_count": 5,
   "metadata": {},
   "outputs": [],
   "source": [
    "# load features and labels arrays for a training file\n",
    "\n",
    "feature_array, label_array = get_features('root_files/ntuple_merged_10.root')"
   ]
  },
  {
   "cell_type": "code",
   "execution_count": 6,
   "metadata": {},
   "outputs": [
    {
     "name": "stdout",
     "output_type": "stream",
     "text": [
      "Model: \"sequential\"\n",
      "_________________________________________________________________\n",
      " Layer (type)                Output Shape              Param #   \n",
      "=================================================================\n",
      " dense (Dense)               (None, 32)                1024      \n",
      "                                                                 \n",
      " dense_1 (Dense)             (None, 32)                1056      \n",
      "                                                                 \n",
      " dense_2 (Dense)             (None, 2)                 66        \n",
      "                                                                 \n",
      "=================================================================\n",
      "Total params: 2,146\n",
      "Trainable params: 2,146\n",
      "Non-trainable params: 0\n",
      "_________________________________________________________________\n",
      "None\n"
     ]
    }
   ],
   "source": [
    "# build a simple neural network in keras\n",
    "\n",
    "keras_model = keras.Sequential()\n",
    "keras_model.add(Dense(units=32,activation='relu',input_dim=nfeatures))\n",
    "keras_model.add(Dense(units=32,activation='relu'))\n",
    "keras_model.add(Dense(units=nlabels,activation='softmax'))\n",
    "keras_model.compile(optimizer='adam', loss='categorical_crossentropy', metrics=['accuracy'])\n",
    "print(keras_model.summary())"
   ]
  },
  {
   "cell_type": "code",
   "execution_count": 7,
   "metadata": {},
   "outputs": [],
   "source": [
    "# change to sgd\n",
    "# check learning rate\n",
    "# figure loss after 10 epochs vs learning rate"
   ]
  },
  {
   "cell_type": "code",
   "execution_count": 8,
   "metadata": {
    "scrolled": true
   },
   "outputs": [
    {
     "name": "stdout",
     "output_type": "stream",
     "text": [
      "Epoch 1/100\n",
      "  1/147 [..............................] - ETA: 20s - loss: 1.4886 - accuracy: 0.7363"
     ]
    },
    {
     "name": "stderr",
     "output_type": "stream",
     "text": [
      "2022-10-04 16:24:45.295347: W tensorflow/core/platform/profile_utils/cpu_utils.cc:128] Failed to get CPU frequency: 0 Hz\n"
     ]
    },
    {
     "name": "stdout",
     "output_type": "stream",
     "text": [
      "147/147 [==============================] - 0s 2ms/step - loss: 0.3659 - accuracy: 0.8835 - val_loss: 0.2891 - val_accuracy: 0.8959\n",
      "Epoch 2/100\n",
      "147/147 [==============================] - 0s 1ms/step - loss: 0.2687 - accuracy: 0.9007 - val_loss: 0.2598 - val_accuracy: 0.9037\n",
      "Epoch 3/100\n",
      "147/147 [==============================] - 0s 1ms/step - loss: 0.2538 - accuracy: 0.9039 - val_loss: 0.2494 - val_accuracy: 0.9067\n",
      "Epoch 4/100\n",
      "147/147 [==============================] - 0s 1ms/step - loss: 0.2426 - accuracy: 0.9069 - val_loss: 0.2411 - val_accuracy: 0.9085\n",
      "Epoch 5/100\n",
      "147/147 [==============================] - 0s 1ms/step - loss: 0.2324 - accuracy: 0.9099 - val_loss: 0.2408 - val_accuracy: 0.9074\n",
      "Epoch 6/100\n",
      "147/147 [==============================] - 0s 1ms/step - loss: 0.2237 - accuracy: 0.9132 - val_loss: 0.2229 - val_accuracy: 0.9123\n",
      "Epoch 7/100\n",
      "147/147 [==============================] - 0s 1ms/step - loss: 0.2154 - accuracy: 0.9153 - val_loss: 0.2198 - val_accuracy: 0.9130\n",
      "Epoch 8/100\n",
      "147/147 [==============================] - 0s 1ms/step - loss: 0.2092 - accuracy: 0.9174 - val_loss: 0.2119 - val_accuracy: 0.9164\n",
      "Epoch 9/100\n",
      "147/147 [==============================] - 0s 1ms/step - loss: 0.2042 - accuracy: 0.9198 - val_loss: 0.2073 - val_accuracy: 0.9180\n",
      "Epoch 10/100\n",
      "147/147 [==============================] - 0s 1ms/step - loss: 0.2002 - accuracy: 0.9209 - val_loss: 0.2027 - val_accuracy: 0.9195\n",
      "Epoch 11/100\n",
      "147/147 [==============================] - 0s 1ms/step - loss: 0.1962 - accuracy: 0.9223 - val_loss: 0.2081 - val_accuracy: 0.9167\n",
      "Epoch 12/100\n",
      "147/147 [==============================] - 0s 1ms/step - loss: 0.1931 - accuracy: 0.9235 - val_loss: 0.1976 - val_accuracy: 0.9222\n",
      "Epoch 13/100\n",
      "147/147 [==============================] - 0s 1ms/step - loss: 0.1902 - accuracy: 0.9248 - val_loss: 0.1929 - val_accuracy: 0.9233\n",
      "Epoch 14/100\n",
      "147/147 [==============================] - 0s 1ms/step - loss: 0.1875 - accuracy: 0.9259 - val_loss: 0.1933 - val_accuracy: 0.9227\n",
      "Epoch 15/100\n",
      "147/147 [==============================] - 0s 1ms/step - loss: 0.1869 - accuracy: 0.9258 - val_loss: 0.1904 - val_accuracy: 0.9245\n",
      "Epoch 16/100\n",
      "147/147 [==============================] - 0s 1ms/step - loss: 0.1871 - accuracy: 0.9259 - val_loss: 0.1912 - val_accuracy: 0.9240\n",
      "Epoch 17/100\n",
      "147/147 [==============================] - 0s 1ms/step - loss: 0.1831 - accuracy: 0.9275 - val_loss: 0.1865 - val_accuracy: 0.9259\n",
      "Epoch 18/100\n",
      "147/147 [==============================] - 0s 1ms/step - loss: 0.1816 - accuracy: 0.9287 - val_loss: 0.1879 - val_accuracy: 0.9254\n",
      "Epoch 19/100\n",
      "147/147 [==============================] - 0s 1ms/step - loss: 0.1789 - accuracy: 0.9297 - val_loss: 0.1878 - val_accuracy: 0.9247\n",
      "Epoch 20/100\n",
      "147/147 [==============================] - 0s 1ms/step - loss: 0.1786 - accuracy: 0.9296 - val_loss: 0.1867 - val_accuracy: 0.9260\n",
      "Epoch 21/100\n",
      "147/147 [==============================] - 0s 1ms/step - loss: 0.1781 - accuracy: 0.9299 - val_loss: 0.1826 - val_accuracy: 0.9278\n",
      "Epoch 22/100\n",
      "147/147 [==============================] - 0s 1ms/step - loss: 0.1767 - accuracy: 0.9304 - val_loss: 0.1829 - val_accuracy: 0.9279\n",
      "Epoch 23/100\n",
      "147/147 [==============================] - 0s 1ms/step - loss: 0.1764 - accuracy: 0.9303 - val_loss: 0.1809 - val_accuracy: 0.9280\n",
      "Epoch 24/100\n",
      "147/147 [==============================] - 0s 1ms/step - loss: 0.1742 - accuracy: 0.9312 - val_loss: 0.1813 - val_accuracy: 0.9284\n",
      "Epoch 25/100\n",
      "147/147 [==============================] - 0s 1ms/step - loss: 0.1748 - accuracy: 0.9316 - val_loss: 0.1801 - val_accuracy: 0.9281\n",
      "Epoch 26/100\n",
      "147/147 [==============================] - 0s 1ms/step - loss: 0.1734 - accuracy: 0.9320 - val_loss: 0.1820 - val_accuracy: 0.9277\n",
      "Epoch 27/100\n",
      "147/147 [==============================] - 0s 1ms/step - loss: 0.1743 - accuracy: 0.9311 - val_loss: 0.1781 - val_accuracy: 0.9301\n",
      "Epoch 28/100\n",
      "147/147 [==============================] - 0s 1ms/step - loss: 0.1737 - accuracy: 0.9314 - val_loss: 0.1789 - val_accuracy: 0.9296\n",
      "Epoch 29/100\n",
      "147/147 [==============================] - 0s 1ms/step - loss: 0.1722 - accuracy: 0.9320 - val_loss: 0.1784 - val_accuracy: 0.9300\n",
      "Epoch 30/100\n",
      "147/147 [==============================] - 0s 1ms/step - loss: 0.1711 - accuracy: 0.9327 - val_loss: 0.1830 - val_accuracy: 0.9289\n",
      "Epoch 31/100\n",
      "147/147 [==============================] - 0s 1ms/step - loss: 0.1702 - accuracy: 0.9331 - val_loss: 0.1847 - val_accuracy: 0.9281\n",
      "Epoch 32/100\n",
      "147/147 [==============================] - 0s 1ms/step - loss: 0.1705 - accuracy: 0.9328 - val_loss: 0.1756 - val_accuracy: 0.9320\n",
      "Epoch 33/100\n",
      "147/147 [==============================] - 0s 1ms/step - loss: 0.1698 - accuracy: 0.9334 - val_loss: 0.1792 - val_accuracy: 0.9285\n",
      "Epoch 34/100\n",
      "147/147 [==============================] - 0s 1ms/step - loss: 0.1695 - accuracy: 0.9329 - val_loss: 0.1767 - val_accuracy: 0.9315\n",
      "Epoch 35/100\n",
      "147/147 [==============================] - 0s 1ms/step - loss: 0.1690 - accuracy: 0.9333 - val_loss: 0.1791 - val_accuracy: 0.9293\n",
      "Epoch 36/100\n",
      "147/147 [==============================] - 0s 1ms/step - loss: 0.1683 - accuracy: 0.9334 - val_loss: 0.1745 - val_accuracy: 0.9311\n",
      "Epoch 37/100\n",
      "147/147 [==============================] - 0s 1ms/step - loss: 0.1680 - accuracy: 0.9335 - val_loss: 0.1764 - val_accuracy: 0.9299\n",
      "Epoch 38/100\n",
      "147/147 [==============================] - 0s 1ms/step - loss: 0.1682 - accuracy: 0.9338 - val_loss: 0.1783 - val_accuracy: 0.9298\n",
      "Epoch 39/100\n",
      "147/147 [==============================] - 0s 1ms/step - loss: 0.1673 - accuracy: 0.9336 - val_loss: 0.1737 - val_accuracy: 0.9319\n",
      "Epoch 40/100\n",
      "147/147 [==============================] - 0s 1ms/step - loss: 0.1677 - accuracy: 0.9338 - val_loss: 0.1745 - val_accuracy: 0.9323\n",
      "Epoch 41/100\n",
      "147/147 [==============================] - 0s 1ms/step - loss: 0.1672 - accuracy: 0.9338 - val_loss: 0.1805 - val_accuracy: 0.9289\n",
      "Epoch 42/100\n",
      "147/147 [==============================] - 0s 1ms/step - loss: 0.1670 - accuracy: 0.9346 - val_loss: 0.1767 - val_accuracy: 0.9305\n",
      "Epoch 43/100\n",
      "147/147 [==============================] - 0s 1ms/step - loss: 0.1673 - accuracy: 0.9342 - val_loss: 0.1731 - val_accuracy: 0.9321\n",
      "Epoch 44/100\n",
      "147/147 [==============================] - 0s 1ms/step - loss: 0.1663 - accuracy: 0.9349 - val_loss: 0.1751 - val_accuracy: 0.9316\n",
      "Epoch 45/100\n",
      "147/147 [==============================] - 0s 1ms/step - loss: 0.1678 - accuracy: 0.9340 - val_loss: 0.1737 - val_accuracy: 0.9319\n",
      "Epoch 46/100\n",
      "147/147 [==============================] - 0s 1ms/step - loss: 0.1669 - accuracy: 0.9343 - val_loss: 0.1733 - val_accuracy: 0.9319\n",
      "Epoch 47/100\n",
      "147/147 [==============================] - 0s 1ms/step - loss: 0.1666 - accuracy: 0.9345 - val_loss: 0.1753 - val_accuracy: 0.9313\n",
      "Epoch 48/100\n",
      "147/147 [==============================] - 0s 1ms/step - loss: 0.1658 - accuracy: 0.9346 - val_loss: 0.1753 - val_accuracy: 0.9322\n",
      "Epoch 49/100\n",
      "147/147 [==============================] - 0s 1ms/step - loss: 0.1656 - accuracy: 0.9350 - val_loss: 0.1716 - val_accuracy: 0.9328\n",
      "Epoch 50/100\n",
      "147/147 [==============================] - 0s 1ms/step - loss: 0.1650 - accuracy: 0.9354 - val_loss: 0.1717 - val_accuracy: 0.9324\n",
      "Epoch 51/100\n",
      "147/147 [==============================] - 0s 1ms/step - loss: 0.1653 - accuracy: 0.9347 - val_loss: 0.1723 - val_accuracy: 0.9329\n",
      "Epoch 52/100\n",
      "147/147 [==============================] - 0s 1ms/step - loss: 0.1649 - accuracy: 0.9350 - val_loss: 0.1709 - val_accuracy: 0.9333\n",
      "Epoch 53/100\n",
      "147/147 [==============================] - 0s 1ms/step - loss: 0.1645 - accuracy: 0.9351 - val_loss: 0.1721 - val_accuracy: 0.9327\n",
      "Epoch 54/100\n",
      "147/147 [==============================] - 0s 1ms/step - loss: 0.1660 - accuracy: 0.9351 - val_loss: 0.1747 - val_accuracy: 0.9313\n",
      "Epoch 55/100\n",
      "147/147 [==============================] - 0s 1ms/step - loss: 0.1643 - accuracy: 0.9353 - val_loss: 0.1713 - val_accuracy: 0.9327\n",
      "Epoch 56/100\n",
      "147/147 [==============================] - 0s 1ms/step - loss: 0.1652 - accuracy: 0.9355 - val_loss: 0.1704 - val_accuracy: 0.9340\n",
      "Epoch 57/100\n",
      "147/147 [==============================] - 0s 1ms/step - loss: 0.1638 - accuracy: 0.9354 - val_loss: 0.1715 - val_accuracy: 0.9324\n",
      "Epoch 58/100\n"
     ]
    },
    {
     "name": "stdout",
     "output_type": "stream",
     "text": [
      "147/147 [==============================] - 0s 1ms/step - loss: 0.1647 - accuracy: 0.9354 - val_loss: 0.1701 - val_accuracy: 0.9333\n",
      "Epoch 59/100\n",
      "147/147 [==============================] - 0s 1ms/step - loss: 0.1629 - accuracy: 0.9360 - val_loss: 0.1713 - val_accuracy: 0.9323\n",
      "Epoch 60/100\n",
      "147/147 [==============================] - 0s 1ms/step - loss: 0.1644 - accuracy: 0.9354 - val_loss: 0.1723 - val_accuracy: 0.9317\n",
      "Epoch 61/100\n",
      "147/147 [==============================] - 0s 1ms/step - loss: 0.1635 - accuracy: 0.9357 - val_loss: 0.1711 - val_accuracy: 0.9331\n",
      "Epoch 62/100\n",
      "147/147 [==============================] - 0s 1ms/step - loss: 0.1630 - accuracy: 0.9361 - val_loss: 0.1705 - val_accuracy: 0.9345\n",
      "Epoch 63/100\n",
      "147/147 [==============================] - 0s 1ms/step - loss: 0.1633 - accuracy: 0.9360 - val_loss: 0.1729 - val_accuracy: 0.9318\n",
      "Epoch 64/100\n",
      "147/147 [==============================] - 0s 1ms/step - loss: 0.1629 - accuracy: 0.9360 - val_loss: 0.1727 - val_accuracy: 0.9313\n",
      "Epoch 65/100\n",
      "147/147 [==============================] - 0s 1ms/step - loss: 0.1630 - accuracy: 0.9358 - val_loss: 0.1704 - val_accuracy: 0.9337\n",
      "Epoch 66/100\n",
      "147/147 [==============================] - 0s 1ms/step - loss: 0.1639 - accuracy: 0.9353 - val_loss: 0.1702 - val_accuracy: 0.9331\n",
      "Epoch 67/100\n",
      "147/147 [==============================] - 0s 1ms/step - loss: 0.1623 - accuracy: 0.9363 - val_loss: 0.1699 - val_accuracy: 0.9336\n",
      "Epoch 68/100\n",
      "147/147 [==============================] - 0s 1ms/step - loss: 0.1629 - accuracy: 0.9360 - val_loss: 0.1695 - val_accuracy: 0.9337\n",
      "Epoch 69/100\n",
      "147/147 [==============================] - 0s 1ms/step - loss: 0.1619 - accuracy: 0.9362 - val_loss: 0.1729 - val_accuracy: 0.9313\n",
      "Epoch 70/100\n",
      "147/147 [==============================] - 0s 1ms/step - loss: 0.1628 - accuracy: 0.9361 - val_loss: 0.1694 - val_accuracy: 0.9332\n",
      "Epoch 71/100\n",
      "147/147 [==============================] - 0s 1ms/step - loss: 0.1618 - accuracy: 0.9363 - val_loss: 0.1706 - val_accuracy: 0.9326\n",
      "Epoch 72/100\n",
      "147/147 [==============================] - 0s 1ms/step - loss: 0.1615 - accuracy: 0.9365 - val_loss: 0.1693 - val_accuracy: 0.9334\n",
      "Epoch 73/100\n",
      "147/147 [==============================] - 0s 1ms/step - loss: 0.1618 - accuracy: 0.9363 - val_loss: 0.1739 - val_accuracy: 0.9312\n",
      "Epoch 74/100\n",
      "147/147 [==============================] - 0s 1ms/step - loss: 0.1617 - accuracy: 0.9363 - val_loss: 0.1699 - val_accuracy: 0.9337\n",
      "Epoch 75/100\n",
      "147/147 [==============================] - 0s 1ms/step - loss: 0.1615 - accuracy: 0.9365 - val_loss: 0.1679 - val_accuracy: 0.9335\n",
      "Epoch 76/100\n",
      "147/147 [==============================] - 0s 1ms/step - loss: 0.1610 - accuracy: 0.9368 - val_loss: 0.1714 - val_accuracy: 0.9332\n",
      "Epoch 77/100\n",
      "147/147 [==============================] - 0s 1ms/step - loss: 0.1632 - accuracy: 0.9360 - val_loss: 0.1732 - val_accuracy: 0.9317\n",
      "Epoch 78/100\n",
      "147/147 [==============================] - 0s 1ms/step - loss: 0.1618 - accuracy: 0.9362 - val_loss: 0.1683 - val_accuracy: 0.9335\n",
      "Epoch 79/100\n",
      "147/147 [==============================] - 0s 1ms/step - loss: 0.1608 - accuracy: 0.9371 - val_loss: 0.1687 - val_accuracy: 0.9343\n",
      "Epoch 80/100\n",
      "147/147 [==============================] - 0s 1ms/step - loss: 0.1608 - accuracy: 0.9364 - val_loss: 0.1698 - val_accuracy: 0.9344\n",
      "Epoch 81/100\n",
      "147/147 [==============================] - 0s 1ms/step - loss: 0.1611 - accuracy: 0.9363 - val_loss: 0.1685 - val_accuracy: 0.9334\n",
      "Epoch 82/100\n",
      "147/147 [==============================] - 0s 1ms/step - loss: 0.1619 - accuracy: 0.9364 - val_loss: 0.1695 - val_accuracy: 0.9329\n",
      "Epoch 83/100\n",
      "147/147 [==============================] - 0s 1ms/step - loss: 0.1610 - accuracy: 0.9368 - val_loss: 0.1686 - val_accuracy: 0.9339\n",
      "Epoch 84/100\n",
      "147/147 [==============================] - 0s 1ms/step - loss: 0.1614 - accuracy: 0.9367 - val_loss: 0.1724 - val_accuracy: 0.9327\n",
      "Epoch 85/100\n",
      "147/147 [==============================] - 0s 1ms/step - loss: 0.1609 - accuracy: 0.9367 - val_loss: 0.1691 - val_accuracy: 0.9332\n",
      "Epoch 86/100\n",
      "147/147 [==============================] - 0s 1ms/step - loss: 0.1612 - accuracy: 0.9366 - val_loss: 0.1706 - val_accuracy: 0.9327\n",
      "Epoch 87/100\n",
      "147/147 [==============================] - 0s 1ms/step - loss: 0.1610 - accuracy: 0.9368 - val_loss: 0.1716 - val_accuracy: 0.9319\n",
      "Epoch 88/100\n",
      "147/147 [==============================] - 0s 1ms/step - loss: 0.1604 - accuracy: 0.9367 - val_loss: 0.1700 - val_accuracy: 0.9332\n",
      "Epoch 89/100\n",
      "147/147 [==============================] - 0s 1ms/step - loss: 0.1598 - accuracy: 0.9376 - val_loss: 0.1743 - val_accuracy: 0.9318\n",
      "Epoch 90/100\n",
      "147/147 [==============================] - 0s 1ms/step - loss: 0.1601 - accuracy: 0.9368 - val_loss: 0.1691 - val_accuracy: 0.9334\n",
      "Epoch 91/100\n",
      "147/147 [==============================] - 0s 1ms/step - loss: 0.1603 - accuracy: 0.9371 - val_loss: 0.1681 - val_accuracy: 0.9340\n",
      "Epoch 92/100\n",
      "147/147 [==============================] - 0s 1ms/step - loss: 0.1597 - accuracy: 0.9376 - val_loss: 0.1678 - val_accuracy: 0.9346\n",
      "Epoch 93/100\n",
      "147/147 [==============================] - 0s 1ms/step - loss: 0.1598 - accuracy: 0.9371 - val_loss: 0.1686 - val_accuracy: 0.9337\n",
      "Epoch 94/100\n",
      "147/147 [==============================] - 0s 1ms/step - loss: 0.1599 - accuracy: 0.9371 - val_loss: 0.1683 - val_accuracy: 0.9338\n",
      "Epoch 95/100\n",
      "147/147 [==============================] - 0s 1ms/step - loss: 0.1595 - accuracy: 0.9374 - val_loss: 0.1744 - val_accuracy: 0.9320\n",
      "Epoch 96/100\n",
      "147/147 [==============================] - 0s 1ms/step - loss: 0.1601 - accuracy: 0.9369 - val_loss: 0.1693 - val_accuracy: 0.9342\n",
      "Epoch 97/100\n",
      "147/147 [==============================] - 0s 1ms/step - loss: 0.1597 - accuracy: 0.9370 - val_loss: 0.1708 - val_accuracy: 0.9335\n",
      "Epoch 98/100\n",
      "147/147 [==============================] - 0s 1ms/step - loss: 0.1601 - accuracy: 0.9374 - val_loss: 0.1700 - val_accuracy: 0.9333\n",
      "Epoch 99/100\n",
      "147/147 [==============================] - 0s 1ms/step - loss: 0.1597 - accuracy: 0.9377 - val_loss: 0.1701 - val_accuracy: 0.9336\n",
      "Epoch 100/100\n",
      "147/147 [==============================] - 0s 1ms/step - loss: 0.1597 - accuracy: 0.9373 - val_loss: 0.1686 - val_accuracy: 0.9337\n"
     ]
    },
    {
     "data": {
      "text/plain": [
       "<keras.callbacks.History at 0x28a130520>"
      ]
     },
     "execution_count": 8,
     "metadata": {},
     "output_type": "execute_result"
    }
   ],
   "source": [
    "# fit keras model\n",
    "keras_model.fit(feature_array, label_array, batch_size=1024, \n",
    "                epochs=100, validation_split=0.2)"
   ]
  },
  {
   "cell_type": "code",
   "execution_count": 9,
   "metadata": {},
   "outputs": [],
   "source": [
    "# load features and labels arrays for a testing file\n",
    "feature_array_test, label_array_test = get_features('root_files/ntuple_merged_0.root')"
   ]
  },
  {
   "cell_type": "code",
   "execution_count": 20,
   "metadata": {},
   "outputs": [
    {
     "name": "stdout",
     "output_type": "stream",
     "text": [
      "5873/5873 [==============================] - 2s 291us/step\n"
     ]
    },
    {
     "data": {
      "image/png": "[encoded data removed]",
      "text/plain": [
       "<Figure size 640x480 with 1 Axes>"
      ]
     },
     "metadata": {},
     "output_type": "display_data"
    }
   ],
   "source": [
    "# run model inference on test data set\n",
    "predict_array_test = keras_model.predict(feature_array_test)\n",
    "\n",
    "# create ROC curve\n",
    "fpr, tpr, threshold = roc_curve(label_array_test[:,1], predict_array_test[:,1])\n",
    "    \n",
    "# plot ROC curve\n",
    "plt.figure()\n",
    "plt.plot(fpr, tpr, lw=2, label=f\"AUC = {auc(fpr,tpr)*100:.1f}\\%\")\n",
    "plt.plot(np.linspace(0,1),np.linspace(0,1),color='k',ls='--',label = 'Random Classifier')\n",
    "plt.xlabel(r'False positive rate')\n",
    "plt.ylabel(r'True positive rate')\n",
    "plt.ylim(0,1)\n",
    "plt.xlim(0,1)\n",
    "plt.grid()\n",
    "plt.legend(loc='lower right')\n",
    "plt.tight_layout()\n",
    "plt.savefig('ROC.pdf')\n",
    "plt.show()"
   ]
  },
  {
   "cell_type": "code",
   "execution_count": null,
   "metadata": {},
   "outputs": [],
   "source": []
  }
 ],
 "metadata": {
  "kernelspec": {
   "display_name": "Python 3 (ipykernel)",
   "language": "python",
   "name": "python3"
  },
  "language_info": {
   "codemirror_mode": {
    "name": "ipython",
    "version": 3
   },
   "file_extension": ".py",
   "mimetype": "text/x-python",
   "name": "python",
   "nbconvert_exporter": "python",
   "pygments_lexer": "ipython3",
   "version": "3.10.6"
  }
 },
 "nbformat": 4,
 "nbformat_minor": 2
}
