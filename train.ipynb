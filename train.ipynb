{
 "cells": [
  {
   "cell_type": "code",
   "execution_count": 1,
   "metadata": {},
   "outputs": [],
   "source": [
    "import keras\n",
    "import numpy as np\n",
    "from keras.models import Model\n",
    "from keras.layers import Input, Dense, BatchNormalization\n",
    "from keras.callbacks import ModelCheckpoint, EarlyStopping\n",
    "from sklearn.metrics import roc_curve, auc\n",
    "import matplotlib.pyplot as plt\n",
    "import uproot\n",
    "import awkward as ak"
   ]
  },
  {
   "cell_type": "code",
   "execution_count": 2,
   "metadata": {},
   "outputs": [],
   "source": [
    "plt.rcParams.update({\n",
    "    \"text.usetex\": True,\n",
    "    \"font.family\": \"serif\",\n",
    "    \"font.serif\": [\"Palatino\"],\n",
    "    \"xtick.labelsize\": 18,\n",
    "    \"ytick.labelsize\": 18,\n",
    "    \"legend.numpoints\": 1,\n",
    "    \"axes.linewidth\": 2,\n",
    "    \"legend.title_fontsize\": 18,\n",
    "    \"axes.labelsize\": 18,\n",
    "    \"legend.fontsize\": 16\n",
    "})"
   ]
  },
  {
   "cell_type": "code",
   "execution_count": 3,
   "metadata": {},
   "outputs": [],
   "source": [
    "# features\n",
    "with uproot.open(f\"root_files/ntuple_merged_0.root:deepntuplizer/tree;42\") as tree:\n",
    "    features = ['fj_jetNTracks','fj_nSV']+[x for x in tree.keys() if x[:6]=='fj_tau' or x[:8]=='fj_track'] \n",
    "\n",
    "# 2 labels: QCD or Hbb\n",
    "labels = ['fj_isQCD*sample_isQCD',\n",
    "          'fj_isH*fj_isBB']\n",
    "\n",
    "nfeatures = len(features)\n",
    "nlabels = len(labels)"
   ]
  },
  {
   "cell_type": "code",
   "execution_count": 4,
   "metadata": {},
   "outputs": [],
   "source": [
    "def get_labels(tree,label):\n",
    "    prods = label.split('*')\n",
    "    facts = tree.arrays(prods,library='np')\n",
    "    labels = np.multiply(facts[prods[0]],facts[prods[1]])\n",
    "    return labels\n",
    "\n",
    "def get_features(file_name):\n",
    "    \n",
    "    with uproot.open(f\"{file_name}:deepntuplizer/tree;42\") as tree:\n",
    "\n",
    "        feature_array = np.stack(list(tree.arrays(features,library='np').values()),axis=-1)\n",
    "        label_array = np.stack([get_labels(tree,i) for i in labels],axis=-1)\n",
    "        feature_array = feature_array[np.sum(label_array,axis=1)==1]\n",
    "        label_array = label_array[np.sum(label_array,axis=1)==1]\n",
    "        \n",
    "    return feature_array, label_array"
   ]
  },
  {
   "cell_type": "code",
   "execution_count": 5,
   "metadata": {},
   "outputs": [],
   "source": [
    "feature_array, label_array = get_features('root_files/ntuple_merged_10.root')"
   ]
  },
  {
   "cell_type": "code",
   "execution_count": 6,
   "metadata": {},
   "outputs": [
    {
     "name": "stdout",
     "output_type": "stream",
     "text": [
      "Model: \"sequential\"\n",
      "_________________________________________________________________\n",
      " Layer (type)                Output Shape              Param #   \n",
      "=================================================================\n",
      " dense (Dense)               (None, 32)                1024      \n",
      "                                                                 \n",
      " dense_1 (Dense)             (None, 32)                1056      \n",
      "                                                                 \n",
      " dense_2 (Dense)             (None, 2)                 66        \n",
      "                                                                 \n",
      "=================================================================\n",
      "Total params: 2,146\n",
      "Trainable params: 2,146\n",
      "Non-trainable params: 0\n",
      "_________________________________________________________________\n",
      "None\n"
     ]
    }
   ],
   "source": [
    "keras_model = keras.Sequential()\n",
    "keras_model.add(Dense(units=32,activation='relu',input_dim=nfeatures))\n",
    "keras_model.add(Dense(units=32,activation='relu'))\n",
    "keras_model.add(Dense(units=2,activation='softmax'))\n",
    "keras_model.compile(optimizer='adam', loss='categorical_crossentropy', metrics=['accuracy'])\n",
    "print(keras_model.summary())"
   ]
  },
  {
   "cell_type": "code",
   "execution_count": 7,
   "metadata": {
    "scrolled": true
   },
   "outputs": [
    {
     "data": {
      "text/plain": [
       "187819"
      ]
     },
     "execution_count": 7,
     "metadata": {},
     "output_type": "execute_result"
    }
   ],
   "source": [
    "24644 + 163175"
   ]
  },
  {
   "cell_type": "code",
   "execution_count": 8,
   "metadata": {
    "scrolled": true
   },
   "outputs": [
    {
     "name": "stdout",
     "output_type": "stream",
     "text": [
      "Epoch 1/100\n",
      " 69/147 [=============>................] - ETA: 0s - loss: 1.0216 - accuracy: 0.8050 "
     ]
    },
    {
     "name": "stderr",
     "output_type": "stream",
     "text": [
      "2022-09-28 16:51:04.019896: W tensorflow/core/platform/profile_utils/cpu_utils.cc:128] Failed to get CPU frequency: 0 Hz\n"
     ]
    },
    {
     "name": "stdout",
     "output_type": "stream",
     "text": [
      "147/147 [==============================] - 0s 2ms/step - loss: 0.6556 - accuracy: 0.8493 - val_loss: 0.3092 - val_accuracy: 0.8919\n",
      "Epoch 2/100\n",
      "147/147 [==============================] - 0s 1ms/step - loss: 0.2840 - accuracy: 0.8975 - val_loss: 0.2743 - val_accuracy: 0.8976\n",
      "Epoch 3/100\n",
      "147/147 [==============================] - 0s 1ms/step - loss: 0.2619 - accuracy: 0.9006 - val_loss: 0.2657 - val_accuracy: 0.8979\n",
      "Epoch 4/100\n",
      "147/147 [==============================] - 0s 1ms/step - loss: 0.2500 - accuracy: 0.9038 - val_loss: 0.2517 - val_accuracy: 0.9034\n",
      "Epoch 5/100\n",
      "147/147 [==============================] - 0s 1ms/step - loss: 0.2424 - accuracy: 0.9060 - val_loss: 0.2427 - val_accuracy: 0.9055\n",
      "Epoch 6/100\n",
      "147/147 [==============================] - 0s 1ms/step - loss: 0.2349 - accuracy: 0.9082 - val_loss: 0.2378 - val_accuracy: 0.9068\n",
      "Epoch 7/100\n",
      "147/147 [==============================] - 0s 1ms/step - loss: 0.2288 - accuracy: 0.9101 - val_loss: 0.2292 - val_accuracy: 0.9096\n",
      "Epoch 8/100\n",
      "147/147 [==============================] - 0s 1ms/step - loss: 0.2222 - accuracy: 0.9124 - val_loss: 0.2233 - val_accuracy: 0.9115\n",
      "Epoch 9/100\n",
      "147/147 [==============================] - 0s 1ms/step - loss: 0.2162 - accuracy: 0.9145 - val_loss: 0.2174 - val_accuracy: 0.9130\n",
      "Epoch 10/100\n",
      "147/147 [==============================] - 0s 1ms/step - loss: 0.2116 - accuracy: 0.9159 - val_loss: 0.2127 - val_accuracy: 0.9143\n",
      "Epoch 11/100\n",
      "147/147 [==============================] - 0s 1ms/step - loss: 0.2062 - accuracy: 0.9178 - val_loss: 0.2092 - val_accuracy: 0.9159\n",
      "Epoch 12/100\n",
      "147/147 [==============================] - 0s 1ms/step - loss: 0.2028 - accuracy: 0.9191 - val_loss: 0.2059 - val_accuracy: 0.9178\n",
      "Epoch 13/100\n",
      "147/147 [==============================] - 0s 1ms/step - loss: 0.1975 - accuracy: 0.9215 - val_loss: 0.1987 - val_accuracy: 0.9207\n",
      "Epoch 14/100\n",
      "147/147 [==============================] - 0s 1ms/step - loss: 0.1947 - accuracy: 0.9223 - val_loss: 0.1964 - val_accuracy: 0.9211\n",
      "Epoch 15/100\n",
      "147/147 [==============================] - 0s 1ms/step - loss: 0.1913 - accuracy: 0.9237 - val_loss: 0.1955 - val_accuracy: 0.9216\n",
      "Epoch 16/100\n",
      "147/147 [==============================] - 0s 1ms/step - loss: 0.1884 - accuracy: 0.9252 - val_loss: 0.1910 - val_accuracy: 0.9239\n",
      "Epoch 17/100\n",
      "147/147 [==============================] - 0s 1ms/step - loss: 0.1865 - accuracy: 0.9260 - val_loss: 0.1887 - val_accuracy: 0.9253\n",
      "Epoch 18/100\n",
      "147/147 [==============================] - 0s 1ms/step - loss: 0.1851 - accuracy: 0.9263 - val_loss: 0.1880 - val_accuracy: 0.9258\n",
      "Epoch 19/100\n",
      "147/147 [==============================] - 0s 1ms/step - loss: 0.1838 - accuracy: 0.9272 - val_loss: 0.1907 - val_accuracy: 0.9245\n",
      "Epoch 20/100\n",
      "147/147 [==============================] - 0s 1ms/step - loss: 0.1827 - accuracy: 0.9278 - val_loss: 0.1860 - val_accuracy: 0.9256\n",
      "Epoch 21/100\n",
      "147/147 [==============================] - 0s 1ms/step - loss: 0.1818 - accuracy: 0.9281 - val_loss: 0.1920 - val_accuracy: 0.9240\n",
      "Epoch 22/100\n",
      "147/147 [==============================] - 0s 1ms/step - loss: 0.1791 - accuracy: 0.9293 - val_loss: 0.1850 - val_accuracy: 0.9272\n",
      "Epoch 23/100\n",
      "147/147 [==============================] - 0s 1ms/step - loss: 0.1776 - accuracy: 0.9301 - val_loss: 0.1817 - val_accuracy: 0.9286\n",
      "Epoch 24/100\n",
      "147/147 [==============================] - 0s 1ms/step - loss: 0.1767 - accuracy: 0.9302 - val_loss: 0.1824 - val_accuracy: 0.9270\n",
      "Epoch 25/100\n",
      "147/147 [==============================] - 0s 1ms/step - loss: 0.1757 - accuracy: 0.9309 - val_loss: 0.1817 - val_accuracy: 0.9281\n",
      "Epoch 26/100\n",
      "147/147 [==============================] - 0s 1ms/step - loss: 0.1761 - accuracy: 0.9306 - val_loss: 0.1802 - val_accuracy: 0.9296\n",
      "Epoch 27/100\n",
      "147/147 [==============================] - 0s 1ms/step - loss: 0.1747 - accuracy: 0.9311 - val_loss: 0.1843 - val_accuracy: 0.9287\n",
      "Epoch 28/100\n",
      "147/147 [==============================] - 0s 1ms/step - loss: 0.1734 - accuracy: 0.9314 - val_loss: 0.1777 - val_accuracy: 0.9299\n",
      "Epoch 29/100\n",
      "147/147 [==============================] - 0s 1ms/step - loss: 0.1726 - accuracy: 0.9318 - val_loss: 0.1769 - val_accuracy: 0.9298\n",
      "Epoch 30/100\n",
      "147/147 [==============================] - 0s 1ms/step - loss: 0.1727 - accuracy: 0.9318 - val_loss: 0.1796 - val_accuracy: 0.9289\n",
      "Epoch 31/100\n",
      "147/147 [==============================] - 0s 1ms/step - loss: 0.1715 - accuracy: 0.9325 - val_loss: 0.1763 - val_accuracy: 0.9297\n",
      "Epoch 32/100\n",
      "147/147 [==============================] - 0s 1ms/step - loss: 0.1728 - accuracy: 0.9318 - val_loss: 0.1783 - val_accuracy: 0.9298\n",
      "Epoch 33/100\n",
      "147/147 [==============================] - 0s 1ms/step - loss: 0.1716 - accuracy: 0.9320 - val_loss: 0.1901 - val_accuracy: 0.9262\n",
      "Epoch 34/100\n",
      "147/147 [==============================] - 0s 1ms/step - loss: 0.1709 - accuracy: 0.9327 - val_loss: 0.1785 - val_accuracy: 0.9292\n",
      "Epoch 35/100\n",
      "147/147 [==============================] - 0s 1ms/step - loss: 0.1701 - accuracy: 0.9329 - val_loss: 0.1749 - val_accuracy: 0.9309\n",
      "Epoch 36/100\n",
      "147/147 [==============================] - 0s 1ms/step - loss: 0.1685 - accuracy: 0.9335 - val_loss: 0.1759 - val_accuracy: 0.9305\n",
      "Epoch 37/100\n",
      "147/147 [==============================] - 0s 1ms/step - loss: 0.1708 - accuracy: 0.9323 - val_loss: 0.1756 - val_accuracy: 0.9311\n",
      "Epoch 38/100\n",
      "147/147 [==============================] - 0s 1ms/step - loss: 0.1681 - accuracy: 0.9340 - val_loss: 0.1750 - val_accuracy: 0.9306\n",
      "Epoch 39/100\n",
      "147/147 [==============================] - 0s 1ms/step - loss: 0.1680 - accuracy: 0.9336 - val_loss: 0.1745 - val_accuracy: 0.9312\n",
      "Epoch 40/100\n",
      "147/147 [==============================] - 0s 1ms/step - loss: 0.1684 - accuracy: 0.9337 - val_loss: 0.1728 - val_accuracy: 0.9316\n",
      "Epoch 41/100\n",
      "147/147 [==============================] - 0s 1ms/step - loss: 0.1669 - accuracy: 0.9342 - val_loss: 0.1722 - val_accuracy: 0.9311\n",
      "Epoch 42/100\n",
      "147/147 [==============================] - 0s 1ms/step - loss: 0.1675 - accuracy: 0.9343 - val_loss: 0.1730 - val_accuracy: 0.9315\n",
      "Epoch 43/100\n",
      "147/147 [==============================] - 0s 1ms/step - loss: 0.1668 - accuracy: 0.9339 - val_loss: 0.1708 - val_accuracy: 0.9322\n",
      "Epoch 44/100\n",
      "147/147 [==============================] - 0s 1ms/step - loss: 0.1663 - accuracy: 0.9342 - val_loss: 0.1740 - val_accuracy: 0.9312\n",
      "Epoch 45/100\n",
      "147/147 [==============================] - 0s 1ms/step - loss: 0.1662 - accuracy: 0.9343 - val_loss: 0.1735 - val_accuracy: 0.9317\n",
      "Epoch 46/100\n",
      "147/147 [==============================] - 0s 1ms/step - loss: 0.1661 - accuracy: 0.9345 - val_loss: 0.1707 - val_accuracy: 0.9321\n",
      "Epoch 47/100\n",
      "147/147 [==============================] - 0s 1ms/step - loss: 0.1660 - accuracy: 0.9350 - val_loss: 0.1726 - val_accuracy: 0.9316\n",
      "Epoch 48/100\n",
      "147/147 [==============================] - 0s 1ms/step - loss: 0.1658 - accuracy: 0.9349 - val_loss: 0.1780 - val_accuracy: 0.9297\n",
      "Epoch 49/100\n",
      "147/147 [==============================] - 0s 1ms/step - loss: 0.1656 - accuracy: 0.9348 - val_loss: 0.1723 - val_accuracy: 0.9321\n",
      "Epoch 50/100\n",
      "147/147 [==============================] - 0s 1ms/step - loss: 0.1658 - accuracy: 0.9349 - val_loss: 0.1709 - val_accuracy: 0.9317\n",
      "Epoch 51/100\n",
      "147/147 [==============================] - 0s 1ms/step - loss: 0.1651 - accuracy: 0.9350 - val_loss: 0.1705 - val_accuracy: 0.9323\n",
      "Epoch 52/100\n",
      "147/147 [==============================] - 0s 1ms/step - loss: 0.1652 - accuracy: 0.9353 - val_loss: 0.1724 - val_accuracy: 0.9320\n",
      "Epoch 53/100\n",
      "147/147 [==============================] - 0s 1ms/step - loss: 0.1641 - accuracy: 0.9355 - val_loss: 0.1709 - val_accuracy: 0.9322\n",
      "Epoch 54/100\n",
      "147/147 [==============================] - 0s 1ms/step - loss: 0.1645 - accuracy: 0.9355 - val_loss: 0.1705 - val_accuracy: 0.9322\n",
      "Epoch 55/100\n",
      "147/147 [==============================] - 0s 1ms/step - loss: 0.1641 - accuracy: 0.9360 - val_loss: 0.1702 - val_accuracy: 0.9320\n",
      "Epoch 56/100\n",
      "147/147 [==============================] - 0s 1ms/step - loss: 0.1647 - accuracy: 0.9356 - val_loss: 0.1741 - val_accuracy: 0.9306\n",
      "Epoch 57/100\n",
      "147/147 [==============================] - 0s 1ms/step - loss: 0.1639 - accuracy: 0.9357 - val_loss: 0.1727 - val_accuracy: 0.9312\n",
      "Epoch 58/100\n"
     ]
    },
    {
     "name": "stdout",
     "output_type": "stream",
     "text": [
      "147/147 [==============================] - 0s 1ms/step - loss: 0.1624 - accuracy: 0.9357 - val_loss: 0.1715 - val_accuracy: 0.9325\n",
      "Epoch 59/100\n",
      "147/147 [==============================] - 0s 1ms/step - loss: 0.1632 - accuracy: 0.9355 - val_loss: 0.1724 - val_accuracy: 0.9312\n",
      "Epoch 60/100\n",
      "147/147 [==============================] - 0s 1ms/step - loss: 0.1629 - accuracy: 0.9357 - val_loss: 0.1693 - val_accuracy: 0.9322\n",
      "Epoch 61/100\n",
      "147/147 [==============================] - 0s 1ms/step - loss: 0.1626 - accuracy: 0.9361 - val_loss: 0.1695 - val_accuracy: 0.9321\n",
      "Epoch 62/100\n",
      "147/147 [==============================] - 0s 1ms/step - loss: 0.1634 - accuracy: 0.9358 - val_loss: 0.1714 - val_accuracy: 0.9317\n",
      "Epoch 63/100\n",
      "147/147 [==============================] - 0s 1ms/step - loss: 0.1625 - accuracy: 0.9362 - val_loss: 0.1674 - val_accuracy: 0.9340\n",
      "Epoch 64/100\n",
      "147/147 [==============================] - 0s 1ms/step - loss: 0.1635 - accuracy: 0.9359 - val_loss: 0.1695 - val_accuracy: 0.9329\n",
      "Epoch 65/100\n",
      "147/147 [==============================] - 0s 1ms/step - loss: 0.1624 - accuracy: 0.9362 - val_loss: 0.1686 - val_accuracy: 0.9332\n",
      "Epoch 66/100\n",
      "147/147 [==============================] - 0s 1ms/step - loss: 0.1625 - accuracy: 0.9360 - val_loss: 0.1721 - val_accuracy: 0.9312\n",
      "Epoch 67/100\n",
      "147/147 [==============================] - 0s 1ms/step - loss: 0.1622 - accuracy: 0.9364 - val_loss: 0.1690 - val_accuracy: 0.9330\n",
      "Epoch 68/100\n",
      "147/147 [==============================] - 0s 1ms/step - loss: 0.1626 - accuracy: 0.9359 - val_loss: 0.1673 - val_accuracy: 0.9337\n",
      "Epoch 69/100\n",
      "147/147 [==============================] - 0s 1ms/step - loss: 0.1613 - accuracy: 0.9370 - val_loss: 0.1678 - val_accuracy: 0.9329\n",
      "Epoch 70/100\n",
      "147/147 [==============================] - 0s 1ms/step - loss: 0.1619 - accuracy: 0.9366 - val_loss: 0.1690 - val_accuracy: 0.9326\n",
      "Epoch 71/100\n",
      "147/147 [==============================] - 0s 1ms/step - loss: 0.1604 - accuracy: 0.9367 - val_loss: 0.1689 - val_accuracy: 0.9333\n",
      "Epoch 72/100\n",
      "147/147 [==============================] - 0s 1ms/step - loss: 0.1609 - accuracy: 0.9370 - val_loss: 0.1687 - val_accuracy: 0.9330\n",
      "Epoch 73/100\n",
      "147/147 [==============================] - 0s 1ms/step - loss: 0.1617 - accuracy: 0.9369 - val_loss: 0.1716 - val_accuracy: 0.9316\n",
      "Epoch 74/100\n",
      "147/147 [==============================] - 0s 1ms/step - loss: 0.1605 - accuracy: 0.9373 - val_loss: 0.1689 - val_accuracy: 0.9332\n",
      "Epoch 75/100\n",
      "147/147 [==============================] - 0s 1ms/step - loss: 0.1606 - accuracy: 0.9368 - val_loss: 0.1717 - val_accuracy: 0.9320\n",
      "Epoch 76/100\n",
      "147/147 [==============================] - 0s 1ms/step - loss: 0.1604 - accuracy: 0.9372 - val_loss: 0.1671 - val_accuracy: 0.9329\n",
      "Epoch 77/100\n",
      "147/147 [==============================] - 0s 1ms/step - loss: 0.1608 - accuracy: 0.9369 - val_loss: 0.1685 - val_accuracy: 0.9327\n",
      "Epoch 78/100\n",
      "147/147 [==============================] - 0s 1ms/step - loss: 0.1610 - accuracy: 0.9366 - val_loss: 0.1689 - val_accuracy: 0.9328\n",
      "Epoch 79/100\n",
      "147/147 [==============================] - 0s 1ms/step - loss: 0.1609 - accuracy: 0.9368 - val_loss: 0.1710 - val_accuracy: 0.9316\n",
      "Epoch 80/100\n",
      "147/147 [==============================] - 0s 1ms/step - loss: 0.1600 - accuracy: 0.9371 - val_loss: 0.1730 - val_accuracy: 0.9319\n",
      "Epoch 81/100\n",
      "147/147 [==============================] - 0s 1ms/step - loss: 0.1600 - accuracy: 0.9370 - val_loss: 0.1682 - val_accuracy: 0.9334\n",
      "Epoch 82/100\n",
      "147/147 [==============================] - 0s 1ms/step - loss: 0.1612 - accuracy: 0.9369 - val_loss: 0.1677 - val_accuracy: 0.9338\n",
      "Epoch 83/100\n",
      "147/147 [==============================] - 0s 1ms/step - loss: 0.1595 - accuracy: 0.9376 - val_loss: 0.1680 - val_accuracy: 0.9335\n",
      "Epoch 84/100\n",
      "147/147 [==============================] - 0s 1ms/step - loss: 0.1596 - accuracy: 0.9374 - val_loss: 0.1710 - val_accuracy: 0.9320\n",
      "Epoch 85/100\n",
      "147/147 [==============================] - 0s 1ms/step - loss: 0.1592 - accuracy: 0.9373 - val_loss: 0.1669 - val_accuracy: 0.9338\n",
      "Epoch 86/100\n",
      "147/147 [==============================] - 0s 1ms/step - loss: 0.1603 - accuracy: 0.9373 - val_loss: 0.1692 - val_accuracy: 0.9334\n",
      "Epoch 87/100\n",
      "147/147 [==============================] - 0s 1ms/step - loss: 0.1588 - accuracy: 0.9377 - val_loss: 0.1669 - val_accuracy: 0.9341\n",
      "Epoch 88/100\n",
      "147/147 [==============================] - 0s 1ms/step - loss: 0.1592 - accuracy: 0.9373 - val_loss: 0.1676 - val_accuracy: 0.9333\n",
      "Epoch 89/100\n",
      "147/147 [==============================] - 0s 1ms/step - loss: 0.1593 - accuracy: 0.9378 - val_loss: 0.1678 - val_accuracy: 0.9337\n",
      "Epoch 90/100\n",
      "147/147 [==============================] - 0s 1ms/step - loss: 0.1590 - accuracy: 0.9376 - val_loss: 0.1667 - val_accuracy: 0.9337\n",
      "Epoch 91/100\n",
      "147/147 [==============================] - 0s 1ms/step - loss: 0.1602 - accuracy: 0.9372 - val_loss: 0.1671 - val_accuracy: 0.9341\n",
      "Epoch 92/100\n",
      "147/147 [==============================] - 0s 1ms/step - loss: 0.1584 - accuracy: 0.9378 - val_loss: 0.1691 - val_accuracy: 0.9337\n",
      "Epoch 93/100\n",
      "147/147 [==============================] - 0s 1ms/step - loss: 0.1584 - accuracy: 0.9380 - val_loss: 0.1674 - val_accuracy: 0.9340\n",
      "Epoch 94/100\n",
      "147/147 [==============================] - 0s 1ms/step - loss: 0.1581 - accuracy: 0.9380 - val_loss: 0.1679 - val_accuracy: 0.9339\n",
      "Epoch 95/100\n",
      "147/147 [==============================] - 0s 1ms/step - loss: 0.1583 - accuracy: 0.9383 - val_loss: 0.1686 - val_accuracy: 0.9338\n",
      "Epoch 96/100\n",
      "147/147 [==============================] - 0s 1ms/step - loss: 0.1591 - accuracy: 0.9375 - val_loss: 0.1658 - val_accuracy: 0.9345\n",
      "Epoch 97/100\n",
      "147/147 [==============================] - 0s 1ms/step - loss: 0.1578 - accuracy: 0.9385 - val_loss: 0.1713 - val_accuracy: 0.9317\n",
      "Epoch 98/100\n",
      "147/147 [==============================] - 0s 1ms/step - loss: 0.1582 - accuracy: 0.9382 - val_loss: 0.1674 - val_accuracy: 0.9341\n",
      "Epoch 99/100\n",
      "147/147 [==============================] - 0s 1ms/step - loss: 0.1580 - accuracy: 0.9382 - val_loss: 0.1701 - val_accuracy: 0.9330\n",
      "Epoch 100/100\n",
      "147/147 [==============================] - 0s 1ms/step - loss: 0.1581 - accuracy: 0.9378 - val_loss: 0.1678 - val_accuracy: 0.9332\n"
     ]
    },
    {
     "data": {
      "text/plain": [
       "<keras.callbacks.History at 0x148e96ce0>"
      ]
     },
     "execution_count": 8,
     "metadata": {},
     "output_type": "execute_result"
    }
   ],
   "source": [
    "# fit keras model\n",
    "keras_model.fit(feature_array, label_array, batch_size=1024, \n",
    "                epochs=100, validation_split=0.2)"
   ]
  },
  {
   "cell_type": "code",
   "execution_count": 9,
   "metadata": {},
   "outputs": [],
   "source": [
    "# load testing file\n",
    "feature_array_test, label_array_test = get_features('root_files/ntuple_merged_0.root')"
   ]
  },
  {
   "cell_type": "code",
   "execution_count": 10,
   "metadata": {},
   "outputs": [
    {
     "name": "stdout",
     "output_type": "stream",
     "text": [
      "5873/5873 [==============================] - 2s 250us/step\n"
     ]
    },
    {
     "data": {
      "image/png": "[encoded data removed]",
      "text/plain": [
       "<Figure size 640x480 with 1 Axes>"
      ]
     },
     "metadata": {},
     "output_type": "display_data"
    }
   ],
   "source": [
    "# run model inference on test data set\n",
    "predict_array_test = keras_model.predict(feature_array_test)\n",
    "\n",
    "# create ROC curve\n",
    "fpr, tpr, threshold = roc_curve(label_array_test[:,1], predict_array_test[:,1])\n",
    "    \n",
    "# plot ROC curve\n",
    "plt.figure()\n",
    "plt.plot(tpr, fpr, lw=2, label=f\"AUC = {auc(fpr,tpr)*100:.1f}\\%\")\n",
    "plt.xlabel(r'True positive rate')\n",
    "plt.ylabel(r'False positive rate')\n",
    "plt.semilogy()\n",
    "plt.ylim(1e-5,1)\n",
    "plt.xlim(0,1)\n",
    "plt.grid()\n",
    "plt.legend(loc='upper left')\n",
    "plt.tight_layout()\n",
    "plt.savefig('ROC.pdf')\n",
    "plt.show()"
   ]
  },
  {
   "cell_type": "code",
   "execution_count": null,
   "metadata": {},
   "outputs": [],
   "source": []
  }
 ],
 "metadata": {
  "kernelspec": {
   "display_name": "Python 3 (ipykernel)",
   "language": "python",
   "name": "python3"
  },
  "language_info": {
   "codemirror_mode": {
    "name": "ipython",
    "version": 3
   },
   "file_extension": ".py",
   "mimetype": "text/x-python",
   "name": "python",
   "nbconvert_exporter": "python",
   "pygments_lexer": "ipython3",
   "version": "3.10.6"
  }
 },
 "nbformat": 4,
 "nbformat_minor": 2
}
