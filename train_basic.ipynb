{
 "cells": [
  {
   "cell_type": "code",
   "execution_count": 1,
   "metadata": {},
   "outputs": [],
   "source": [
    "# imports\n",
    "\n",
    "import keras\n",
    "import numpy as np\n",
    "from keras.models import Model\n",
    "from keras.layers import Input, Dense, BatchNormalization\n",
    "from keras.callbacks import ModelCheckpoint, EarlyStopping\n",
    "from sklearn.metrics import roc_curve, auc\n",
    "import matplotlib.pyplot as plt\n",
    "import uproot\n",
    "import awkward as ak"
   ]
  },
  {
   "cell_type": "code",
   "execution_count": 2,
   "metadata": {},
   "outputs": [],
   "source": [
    "# latex settings block\n",
    "\n",
    "plt.rcParams.update({\n",
    "    \"text.usetex\": True,\n",
    "    \"font.family\": \"serif\",\n",
    "    \"font.serif\": [\"Palatino\"],\n",
    "    \"xtick.labelsize\": 18,\n",
    "    \"ytick.labelsize\": 18,\n",
    "    \"legend.numpoints\": 1,\n",
    "    \"axes.linewidth\": 2,\n",
    "    \"legend.title_fontsize\": 18,\n",
    "    \"axes.labelsize\": 18,\n",
    "    \"legend.fontsize\": 16\n",
    "})"
   ]
  },
  {
   "cell_type": "code",
   "execution_count": 3,
   "metadata": {},
   "outputs": [],
   "source": [
    "# take the feature labels out of a root file\n",
    "with uproot.open(f\"root_files/ntuple_merged_0.root:deepntuplizer/tree\") as tree:\n",
    "    features = ['fj_jetNTracks','fj_nSV']+[x for x in tree.keys() if x[:6]=='fj_tau' or x[:8]=='fj_track'] \n",
    "\n",
    "# 2 labels: QCD or Hbb. Logical \"and\" of labels is used.\n",
    "labels = ['fj_isQCD*sample_isQCD',\n",
    "          'fj_isH*fj_isBB']\n",
    "\n",
    "nfeatures = len(features)\n",
    "nlabels = len(labels)"
   ]
  },
  {
   "cell_type": "code",
   "execution_count": 4,
   "metadata": {},
   "outputs": [],
   "source": [
    "def get_labels(tree,label):\n",
    "    '''\n",
    "    Function to return the labels array out of a root tree.\n",
    "    This function is required because we use 2 sets of 2 lables each\n",
    "    where each set is combined with a logical \"and\".\n",
    "    For instance \"fj_isQCD and sample_isQCD\" is the final label to label a jet as\n",
    "    originating from QCD.\n",
    "    '''\n",
    "    prods = label.split('*')\n",
    "    facts = tree.arrays(prods,library='np')\n",
    "    labels = np.multiply(facts[prods[0]],facts[prods[1]])\n",
    "    return labels\n",
    "\n",
    "def get_features(file_name):\n",
    "    '''\n",
    "    Function that extracts our chosen feature and label arrays from a root file\n",
    "    for the events that are labeled as QCD or Hbb and returns two 2D arrays.\n",
    "    The first array is the features array and has the shape (nummber_of_events, number_of_features).\n",
    "    The second array is the labels array ans has the shape (number_of_events, 2)\n",
    "    '''\n",
    "    with uproot.open(f\"{file_name}:deepntuplizer/tree\") as tree:\n",
    "\n",
    "        feature_array = np.stack(list(tree.arrays(features,library='np').values()),axis=-1)\n",
    "        label_array = np.stack([get_labels(tree,i) for i in labels],axis=-1)\n",
    "        feature_array = feature_array[np.sum(label_array,axis=1)==1]\n",
    "        label_array = label_array[np.sum(label_array,axis=1)==1]\n",
    "        \n",
    "    return feature_array, label_array"
   ]
  },
  {
   "cell_type": "code",
   "execution_count": 5,
   "metadata": {},
   "outputs": [],
   "source": [
    "# load features and labels arrays for a training file\n",
    "\n",
    "feature_array, label_array = get_features('root_files/ntuple_merged_10.root')"
   ]
  },
  {
   "cell_type": "code",
   "execution_count": 6,
   "metadata": {},
   "outputs": [
    {
     "name": "stdout",
     "output_type": "stream",
     "text": [
      "Model: \"sequential\"\n",
      "_________________________________________________________________\n",
      " Layer (type)                Output Shape              Param #   \n",
      "=================================================================\n",
      " dense (Dense)               (None, 32)                1024      \n",
      "                                                                 \n",
      " dense_1 (Dense)             (None, 32)                1056      \n",
      "                                                                 \n",
      " dense_2 (Dense)             (None, 2)                 66        \n",
      "                                                                 \n",
      "=================================================================\n",
      "Total params: 2,146\n",
      "Trainable params: 2,146\n",
      "Non-trainable params: 0\n",
      "_________________________________________________________________\n",
      "None\n"
     ]
    }
   ],
   "source": [
    "# build a simple neural network in keras\n",
    "\n",
    "keras_model = keras.Sequential()\n",
    "keras_model.add(Dense(units=32,activation='relu',input_dim=nfeatures))\n",
    "keras_model.add(Dense(units=32,activation='relu'))\n",
    "keras_model.add(Dense(units=nlabels,activation='softmax'))\n",
    "keras_model.compile(optimizer='adam', loss='categorical_crossentropy', metrics=['accuracy'])\n",
    "print(keras_model.summary())"
   ]
  },
  {
   "cell_type": "code",
   "execution_count": 8,
   "metadata": {
    "scrolled": true
   },
   "outputs": [
    {
     "name": "stdout",
     "output_type": "stream",
     "text": [
      "Epoch 1/100\n",
      " 69/147 [=============>................] - ETA: 0s - loss: 0.4051 - accuracy: 0.8679 "
     ]
    },
    {
     "name": "stderr",
     "output_type": "stream",
     "text": [
      "2022-10-11 20:15:31.979497: W tensorflow/core/platform/profile_utils/cpu_utils.cc:128] Failed to get CPU frequency: 0 Hz\n"
     ]
    },
    {
     "name": "stdout",
     "output_type": "stream",
     "text": [
      "147/147 [==============================] - 0s 2ms/step - loss: 0.3438 - accuracy: 0.8813 - val_loss: 0.2770 - val_accuracy: 0.8951\n",
      "Epoch 2/100\n",
      "147/147 [==============================] - 0s 1ms/step - loss: 0.2614 - accuracy: 0.8996 - val_loss: 0.2573 - val_accuracy: 0.9005\n",
      "Epoch 3/100\n",
      "147/147 [==============================] - 0s 1ms/step - loss: 0.2462 - accuracy: 0.9040 - val_loss: 0.2454 - val_accuracy: 0.9040\n",
      "Epoch 4/100\n",
      "147/147 [==============================] - 0s 1ms/step - loss: 0.2368 - accuracy: 0.9073 - val_loss: 0.2374 - val_accuracy: 0.9073\n",
      "Epoch 5/100\n",
      "147/147 [==============================] - 0s 1ms/step - loss: 0.2297 - accuracy: 0.9095 - val_loss: 0.2308 - val_accuracy: 0.9090\n",
      "Epoch 6/100\n",
      "147/147 [==============================] - 0s 1ms/step - loss: 0.2226 - accuracy: 0.9114 - val_loss: 0.2265 - val_accuracy: 0.9105\n",
      "Epoch 7/100\n",
      "147/147 [==============================] - 0s 1ms/step - loss: 0.2168 - accuracy: 0.9137 - val_loss: 0.2254 - val_accuracy: 0.9098\n",
      "Epoch 8/100\n",
      "147/147 [==============================] - 0s 1ms/step - loss: 0.2112 - accuracy: 0.9158 - val_loss: 0.2126 - val_accuracy: 0.9155\n",
      "Epoch 9/100\n",
      "147/147 [==============================] - 0s 1ms/step - loss: 0.2058 - accuracy: 0.9179 - val_loss: 0.2137 - val_accuracy: 0.9144\n",
      "Epoch 10/100\n",
      "147/147 [==============================] - 0s 1ms/step - loss: 0.2031 - accuracy: 0.9185 - val_loss: 0.2044 - val_accuracy: 0.9172\n",
      "Epoch 11/100\n",
      "147/147 [==============================] - 0s 1ms/step - loss: 0.1980 - accuracy: 0.9209 - val_loss: 0.2026 - val_accuracy: 0.9196\n",
      "Epoch 12/100\n",
      "147/147 [==============================] - 0s 1ms/step - loss: 0.1959 - accuracy: 0.9215 - val_loss: 0.1991 - val_accuracy: 0.9203\n",
      "Epoch 13/100\n",
      "147/147 [==============================] - 0s 1ms/step - loss: 0.1926 - accuracy: 0.9235 - val_loss: 0.1976 - val_accuracy: 0.9213\n",
      "Epoch 14/100\n",
      "147/147 [==============================] - 0s 1ms/step - loss: 0.1908 - accuracy: 0.9241 - val_loss: 0.2048 - val_accuracy: 0.9189\n",
      "Epoch 15/100\n",
      "147/147 [==============================] - 0s 1ms/step - loss: 0.1894 - accuracy: 0.9240 - val_loss: 0.1970 - val_accuracy: 0.9225\n",
      "Epoch 16/100\n",
      "147/147 [==============================] - 0s 1ms/step - loss: 0.1865 - accuracy: 0.9259 - val_loss: 0.1913 - val_accuracy: 0.9243\n",
      "Epoch 17/100\n",
      "147/147 [==============================] - 0s 1ms/step - loss: 0.1854 - accuracy: 0.9261 - val_loss: 0.1931 - val_accuracy: 0.9234\n",
      "Epoch 18/100\n",
      "147/147 [==============================] - 0s 1ms/step - loss: 0.1824 - accuracy: 0.9270 - val_loss: 0.1878 - val_accuracy: 0.9253\n",
      "Epoch 19/100\n",
      "147/147 [==============================] - 0s 1ms/step - loss: 0.1814 - accuracy: 0.9276 - val_loss: 0.1878 - val_accuracy: 0.9252\n",
      "Epoch 20/100\n",
      "147/147 [==============================] - 0s 1ms/step - loss: 0.1812 - accuracy: 0.9280 - val_loss: 0.1855 - val_accuracy: 0.9266\n",
      "Epoch 21/100\n",
      "147/147 [==============================] - 0s 1ms/step - loss: 0.1789 - accuracy: 0.9290 - val_loss: 0.1849 - val_accuracy: 0.9256\n",
      "Epoch 22/100\n",
      "147/147 [==============================] - 0s 1ms/step - loss: 0.1784 - accuracy: 0.9297 - val_loss: 0.1871 - val_accuracy: 0.9259\n",
      "Epoch 23/100\n",
      "147/147 [==============================] - 0s 1ms/step - loss: 0.1771 - accuracy: 0.9297 - val_loss: 0.1840 - val_accuracy: 0.9281\n",
      "Epoch 24/100\n",
      "147/147 [==============================] - 0s 1ms/step - loss: 0.1762 - accuracy: 0.9301 - val_loss: 0.1808 - val_accuracy: 0.9285\n",
      "Epoch 25/100\n",
      "147/147 [==============================] - 0s 1ms/step - loss: 0.1751 - accuracy: 0.9305 - val_loss: 0.1850 - val_accuracy: 0.9266\n",
      "Epoch 26/100\n",
      "147/147 [==============================] - 0s 1ms/step - loss: 0.1757 - accuracy: 0.9302 - val_loss: 0.1817 - val_accuracy: 0.9271\n",
      "Epoch 27/100\n",
      "147/147 [==============================] - 0s 1ms/step - loss: 0.1743 - accuracy: 0.9309 - val_loss: 0.1801 - val_accuracy: 0.9287\n",
      "Epoch 28/100\n",
      "147/147 [==============================] - 0s 1ms/step - loss: 0.1732 - accuracy: 0.9314 - val_loss: 0.1786 - val_accuracy: 0.9296\n",
      "Epoch 29/100\n",
      "147/147 [==============================] - 0s 1ms/step - loss: 0.1723 - accuracy: 0.9317 - val_loss: 0.1788 - val_accuracy: 0.9296\n",
      "Epoch 30/100\n",
      "147/147 [==============================] - 0s 1ms/step - loss: 0.1723 - accuracy: 0.9322 - val_loss: 0.1883 - val_accuracy: 0.9236\n",
      "Epoch 31/100\n",
      "147/147 [==============================] - 0s 1ms/step - loss: 0.1714 - accuracy: 0.9322 - val_loss: 0.1771 - val_accuracy: 0.9299\n",
      "Epoch 32/100\n",
      "147/147 [==============================] - 0s 1ms/step - loss: 0.1703 - accuracy: 0.9329 - val_loss: 0.1760 - val_accuracy: 0.9306\n",
      "Epoch 33/100\n",
      "147/147 [==============================] - 0s 1ms/step - loss: 0.1708 - accuracy: 0.9325 - val_loss: 0.1761 - val_accuracy: 0.9305\n",
      "Epoch 34/100\n",
      "147/147 [==============================] - 0s 1ms/step - loss: 0.1700 - accuracy: 0.9327 - val_loss: 0.1772 - val_accuracy: 0.9302\n",
      "Epoch 35/100\n",
      "147/147 [==============================] - 0s 1ms/step - loss: 0.1688 - accuracy: 0.9339 - val_loss: 0.1757 - val_accuracy: 0.9307\n",
      "Epoch 36/100\n",
      "147/147 [==============================] - 0s 1ms/step - loss: 0.1687 - accuracy: 0.9335 - val_loss: 0.1758 - val_accuracy: 0.9307\n",
      "Epoch 37/100\n",
      "147/147 [==============================] - 0s 1ms/step - loss: 0.1680 - accuracy: 0.9337 - val_loss: 0.1786 - val_accuracy: 0.9298\n",
      "Epoch 38/100\n",
      "147/147 [==============================] - 0s 1ms/step - loss: 0.1680 - accuracy: 0.9337 - val_loss: 0.1776 - val_accuracy: 0.9292\n",
      "Epoch 39/100\n",
      "147/147 [==============================] - 0s 1ms/step - loss: 0.1674 - accuracy: 0.9341 - val_loss: 0.1750 - val_accuracy: 0.9311\n",
      "Epoch 40/100\n",
      "147/147 [==============================] - 0s 1ms/step - loss: 0.1672 - accuracy: 0.9338 - val_loss: 0.1728 - val_accuracy: 0.9316\n",
      "Epoch 41/100\n",
      "147/147 [==============================] - 0s 1ms/step - loss: 0.1667 - accuracy: 0.9342 - val_loss: 0.1734 - val_accuracy: 0.9316\n",
      "Epoch 42/100\n",
      "147/147 [==============================] - 0s 1ms/step - loss: 0.1669 - accuracy: 0.9339 - val_loss: 0.1761 - val_accuracy: 0.9317\n",
      "Epoch 43/100\n",
      "147/147 [==============================] - 0s 1ms/step - loss: 0.1663 - accuracy: 0.9342 - val_loss: 0.1748 - val_accuracy: 0.9312\n",
      "Epoch 44/100\n",
      "147/147 [==============================] - 0s 1ms/step - loss: 0.1656 - accuracy: 0.9346 - val_loss: 0.1715 - val_accuracy: 0.9324\n",
      "Epoch 45/100\n",
      "147/147 [==============================] - 0s 1ms/step - loss: 0.1650 - accuracy: 0.9345 - val_loss: 0.1728 - val_accuracy: 0.9321\n",
      "Epoch 46/100\n",
      "147/147 [==============================] - 0s 1ms/step - loss: 0.1645 - accuracy: 0.9350 - val_loss: 0.1733 - val_accuracy: 0.9323\n",
      "Epoch 47/100\n",
      "147/147 [==============================] - 0s 1ms/step - loss: 0.1647 - accuracy: 0.9353 - val_loss: 0.1705 - val_accuracy: 0.9321\n",
      "Epoch 48/100\n",
      "147/147 [==============================] - 0s 1ms/step - loss: 0.1646 - accuracy: 0.9356 - val_loss: 0.1720 - val_accuracy: 0.9317\n",
      "Epoch 49/100\n",
      "147/147 [==============================] - 0s 1ms/step - loss: 0.1647 - accuracy: 0.9351 - val_loss: 0.1725 - val_accuracy: 0.9327\n",
      "Epoch 50/100\n",
      "147/147 [==============================] - 0s 1ms/step - loss: 0.1637 - accuracy: 0.9358 - val_loss: 0.1720 - val_accuracy: 0.9323\n",
      "Epoch 51/100\n",
      "147/147 [==============================] - 0s 1ms/step - loss: 0.1633 - accuracy: 0.9359 - val_loss: 0.1738 - val_accuracy: 0.9309\n",
      "Epoch 52/100\n",
      "147/147 [==============================] - 0s 1ms/step - loss: 0.1634 - accuracy: 0.9356 - val_loss: 0.1720 - val_accuracy: 0.9319\n",
      "Epoch 53/100\n",
      "147/147 [==============================] - 0s 1ms/step - loss: 0.1630 - accuracy: 0.9358 - val_loss: 0.1715 - val_accuracy: 0.9317\n",
      "Epoch 54/100\n",
      "147/147 [==============================] - 0s 1ms/step - loss: 0.1627 - accuracy: 0.9362 - val_loss: 0.1720 - val_accuracy: 0.9324\n",
      "Epoch 55/100\n",
      "147/147 [==============================] - 0s 1ms/step - loss: 0.1630 - accuracy: 0.9359 - val_loss: 0.1704 - val_accuracy: 0.9330\n",
      "Epoch 56/100\n",
      "147/147 [==============================] - 0s 1ms/step - loss: 0.1625 - accuracy: 0.9361 - val_loss: 0.1695 - val_accuracy: 0.9331\n",
      "Epoch 57/100\n",
      "147/147 [==============================] - 0s 1ms/step - loss: 0.1620 - accuracy: 0.9362 - val_loss: 0.1715 - val_accuracy: 0.9324\n",
      "Epoch 58/100\n"
     ]
    },
    {
     "name": "stdout",
     "output_type": "stream",
     "text": [
      "147/147 [==============================] - 0s 1ms/step - loss: 0.1623 - accuracy: 0.9363 - val_loss: 0.1711 - val_accuracy: 0.9326\n",
      "Epoch 59/100\n",
      "147/147 [==============================] - 0s 1ms/step - loss: 0.1620 - accuracy: 0.9364 - val_loss: 0.1716 - val_accuracy: 0.9328\n",
      "Epoch 60/100\n",
      "147/147 [==============================] - 0s 1ms/step - loss: 0.1618 - accuracy: 0.9365 - val_loss: 0.1690 - val_accuracy: 0.9334\n",
      "Epoch 61/100\n",
      "147/147 [==============================] - 0s 1ms/step - loss: 0.1615 - accuracy: 0.9364 - val_loss: 0.1694 - val_accuracy: 0.9333\n",
      "Epoch 62/100\n",
      "147/147 [==============================] - 0s 1ms/step - loss: 0.1613 - accuracy: 0.9368 - val_loss: 0.1689 - val_accuracy: 0.9334\n",
      "Epoch 63/100\n",
      "147/147 [==============================] - 0s 1ms/step - loss: 0.1613 - accuracy: 0.9369 - val_loss: 0.1684 - val_accuracy: 0.9342\n",
      "Epoch 64/100\n",
      "147/147 [==============================] - 0s 1ms/step - loss: 0.1609 - accuracy: 0.9368 - val_loss: 0.1699 - val_accuracy: 0.9324\n",
      "Epoch 65/100\n",
      "147/147 [==============================] - 0s 1ms/step - loss: 0.1614 - accuracy: 0.9366 - val_loss: 0.1694 - val_accuracy: 0.9337\n",
      "Epoch 66/100\n",
      "147/147 [==============================] - 0s 1ms/step - loss: 0.1612 - accuracy: 0.9365 - val_loss: 0.1695 - val_accuracy: 0.9336\n",
      "Epoch 67/100\n",
      "147/147 [==============================] - 0s 1ms/step - loss: 0.1613 - accuracy: 0.9365 - val_loss: 0.1717 - val_accuracy: 0.9324\n",
      "Epoch 68/100\n",
      "147/147 [==============================] - 0s 1ms/step - loss: 0.1604 - accuracy: 0.9372 - val_loss: 0.1677 - val_accuracy: 0.9336\n",
      "Epoch 69/100\n",
      "147/147 [==============================] - 0s 1ms/step - loss: 0.1605 - accuracy: 0.9369 - val_loss: 0.1694 - val_accuracy: 0.9326\n",
      "Epoch 70/100\n",
      "147/147 [==============================] - 0s 1ms/step - loss: 0.1606 - accuracy: 0.9370 - val_loss: 0.1680 - val_accuracy: 0.9341\n",
      "Epoch 71/100\n",
      "147/147 [==============================] - 0s 1ms/step - loss: 0.1606 - accuracy: 0.9372 - val_loss: 0.1693 - val_accuracy: 0.9327\n",
      "Epoch 72/100\n",
      "147/147 [==============================] - 0s 1ms/step - loss: 0.1598 - accuracy: 0.9371 - val_loss: 0.1685 - val_accuracy: 0.9336\n",
      "Epoch 73/100\n",
      "147/147 [==============================] - 0s 1ms/step - loss: 0.1594 - accuracy: 0.9380 - val_loss: 0.1690 - val_accuracy: 0.9329\n",
      "Epoch 74/100\n",
      "147/147 [==============================] - 0s 1ms/step - loss: 0.1604 - accuracy: 0.9375 - val_loss: 0.1675 - val_accuracy: 0.9339\n",
      "Epoch 75/100\n",
      "147/147 [==============================] - 0s 1ms/step - loss: 0.1596 - accuracy: 0.9377 - val_loss: 0.1701 - val_accuracy: 0.9336\n",
      "Epoch 76/100\n",
      "147/147 [==============================] - 0s 1ms/step - loss: 0.1603 - accuracy: 0.9370 - val_loss: 0.1674 - val_accuracy: 0.9344\n",
      "Epoch 77/100\n",
      "147/147 [==============================] - 0s 1ms/step - loss: 0.1594 - accuracy: 0.9378 - val_loss: 0.1666 - val_accuracy: 0.9354\n",
      "Epoch 78/100\n",
      "147/147 [==============================] - 0s 1ms/step - loss: 0.1590 - accuracy: 0.9381 - val_loss: 0.1721 - val_accuracy: 0.9317\n",
      "Epoch 79/100\n",
      "147/147 [==============================] - 0s 1ms/step - loss: 0.1595 - accuracy: 0.9378 - val_loss: 0.1674 - val_accuracy: 0.9345\n",
      "Epoch 80/100\n",
      "147/147 [==============================] - 0s 1ms/step - loss: 0.1592 - accuracy: 0.9378 - val_loss: 0.1695 - val_accuracy: 0.9335\n",
      "Epoch 81/100\n",
      "147/147 [==============================] - 0s 1ms/step - loss: 0.1589 - accuracy: 0.9381 - val_loss: 0.1675 - val_accuracy: 0.9344\n",
      "Epoch 82/100\n",
      "147/147 [==============================] - 0s 1ms/step - loss: 0.1593 - accuracy: 0.9376 - val_loss: 0.1663 - val_accuracy: 0.9347\n",
      "Epoch 83/100\n",
      "147/147 [==============================] - 0s 1ms/step - loss: 0.1586 - accuracy: 0.9380 - val_loss: 0.1693 - val_accuracy: 0.9328\n",
      "Epoch 84/100\n",
      "147/147 [==============================] - 0s 999us/step - loss: 0.1591 - accuracy: 0.9378 - val_loss: 0.1669 - val_accuracy: 0.9343\n",
      "Epoch 85/100\n",
      "147/147 [==============================] - 0s 1ms/step - loss: 0.1592 - accuracy: 0.9373 - val_loss: 0.1680 - val_accuracy: 0.9346\n",
      "Epoch 86/100\n",
      "147/147 [==============================] - 0s 1ms/step - loss: 0.1586 - accuracy: 0.9382 - val_loss: 0.1660 - val_accuracy: 0.9351\n",
      "Epoch 87/100\n",
      "147/147 [==============================] - 0s 1ms/step - loss: 0.1579 - accuracy: 0.9388 - val_loss: 0.1677 - val_accuracy: 0.9346\n",
      "Epoch 88/100\n",
      "147/147 [==============================] - 0s 1ms/step - loss: 0.1596 - accuracy: 0.9377 - val_loss: 0.1665 - val_accuracy: 0.9349\n",
      "Epoch 89/100\n",
      "147/147 [==============================] - 0s 1ms/step - loss: 0.1578 - accuracy: 0.9384 - val_loss: 0.1677 - val_accuracy: 0.9341\n",
      "Epoch 90/100\n",
      "147/147 [==============================] - 0s 1ms/step - loss: 0.1583 - accuracy: 0.9382 - val_loss: 0.1706 - val_accuracy: 0.9328\n",
      "Epoch 91/100\n",
      "147/147 [==============================] - 0s 1ms/step - loss: 0.1589 - accuracy: 0.9383 - val_loss: 0.1675 - val_accuracy: 0.9347\n",
      "Epoch 92/100\n",
      "147/147 [==============================] - 0s 1ms/step - loss: 0.1582 - accuracy: 0.9385 - val_loss: 0.1674 - val_accuracy: 0.9345\n",
      "Epoch 93/100\n",
      "147/147 [==============================] - 0s 1ms/step - loss: 0.1579 - accuracy: 0.9383 - val_loss: 0.1677 - val_accuracy: 0.9336\n",
      "Epoch 94/100\n",
      "147/147 [==============================] - 0s 1ms/step - loss: 0.1578 - accuracy: 0.9388 - val_loss: 0.1669 - val_accuracy: 0.9349\n",
      "Epoch 95/100\n",
      "147/147 [==============================] - 0s 1ms/step - loss: 0.1588 - accuracy: 0.9378 - val_loss: 0.1662 - val_accuracy: 0.9350\n",
      "Epoch 96/100\n",
      "147/147 [==============================] - 0s 1ms/step - loss: 0.1580 - accuracy: 0.9385 - val_loss: 0.1673 - val_accuracy: 0.9330\n",
      "Epoch 97/100\n",
      "147/147 [==============================] - 0s 1ms/step - loss: 0.1572 - accuracy: 0.9389 - val_loss: 0.1674 - val_accuracy: 0.9335\n",
      "Epoch 98/100\n",
      "147/147 [==============================] - 0s 1ms/step - loss: 0.1571 - accuracy: 0.9386 - val_loss: 0.1676 - val_accuracy: 0.9344\n",
      "Epoch 99/100\n",
      "147/147 [==============================] - 0s 1ms/step - loss: 0.1577 - accuracy: 0.9386 - val_loss: 0.1683 - val_accuracy: 0.9340\n",
      "Epoch 100/100\n",
      "147/147 [==============================] - 0s 1ms/step - loss: 0.1574 - accuracy: 0.9386 - val_loss: 0.1684 - val_accuracy: 0.9342\n"
     ]
    },
    {
     "data": {
      "text/plain": [
       "<keras.callbacks.History at 0x177e03e50>"
      ]
     },
     "execution_count": 8,
     "metadata": {},
     "output_type": "execute_result"
    }
   ],
   "source": [
    "# fit keras model\n",
    "keras_model.fit(feature_array, label_array, batch_size=1024, \n",
    "                epochs=100, validation_split=0.2)"
   ]
  },
  {
   "cell_type": "code",
   "execution_count": 9,
   "metadata": {},
   "outputs": [],
   "source": [
    "# load features and labels arrays for a testing file\n",
    "feature_array_test, label_array_test = get_features('root_files/ntuple_merged_0.root')"
   ]
  },
  {
   "cell_type": "code",
   "execution_count": 10,
   "metadata": {},
   "outputs": [
    {
     "name": "stdout",
     "output_type": "stream",
     "text": [
      "5873/5873 [==============================] - 2s 255us/step\n"
     ]
    }
   ],
   "source": [
    "# run model inference on test data set\n",
    "predict_array_test = keras_model.predict(feature_array_test)\n",
    "\n",
    "# create ROC curve\n",
    "fpr, tpr, threshold = roc_curve(label_array_test[:,1], predict_array_test[:,1])"
   ]
  },
  {
   "cell_type": "code",
   "execution_count": 12,
   "metadata": {},
   "outputs": [
    {
     "data": {
      "image/png": "[encoded data removed]",
      "text/plain": [
       "<Figure size 640x480 with 1 Axes>"
      ]
     },
     "metadata": {},
     "output_type": "display_data"
    }
   ],
   "source": [
    "# plot ROC curve\n",
    "plt.figure()\n",
    "plt.plot(fpr, tpr, lw=2, label=f\"AUC = {auc(fpr,tpr)*100:.1f}\\%\")\n",
    "plt.plot(np.linspace(0,1),np.linspace(0,1),color='k',ls='--',label = 'Random Classifier')\n",
    "plt.xlabel('False positive rate')\n",
    "plt.ylabel('True positive rate')\n",
    "plt.ylim(0,1)\n",
    "plt.xlim(0,1)\n",
    "plt.grid()\n",
    "plt.legend(loc='lower right')\n",
    "plt.tight_layout()\n",
    "plt.savefig('ROC.pdf')\n",
    "plt.show()"
   ]
  },
  {
   "cell_type": "code",
   "execution_count": null,
   "metadata": {},
   "outputs": [],
   "source": []
  }
 ],
 "metadata": {
  "kernelspec": {
   "display_name": "Python 3 (ipykernel)",
   "language": "python",
   "name": "python3"
  },
  "language_info": {
   "codemirror_mode": {
    "name": "ipython",
    "version": 3
   },
   "file_extension": ".py",
   "mimetype": "text/x-python",
   "name": "python",
   "nbconvert_exporter": "python",
   "pygments_lexer": "ipython3",
   "version": "3.10.8"
  }
 },
 "nbformat": 4,
 "nbformat_minor": 2
}
